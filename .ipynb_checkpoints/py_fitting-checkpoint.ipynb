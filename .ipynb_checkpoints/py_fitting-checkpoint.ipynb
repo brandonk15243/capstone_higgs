{
 "cells": [
  {
   "cell_type": "markdown",
   "id": "bc98f8bd-3e8f-4091-b3eb-f0064a567a6f",
   "metadata": {},
   "source": [
    "# Fitting"
   ]
  },
  {
   "cell_type": "markdown",
   "id": "f8b5d53f-9a0f-4e84-b790-62ede231f5a5",
   "metadata": {},
   "source": [
    "## Setup & Config"
   ]
  },
  {
   "cell_type": "code",
   "execution_count": 2,
   "id": "456f9321-daf1-42be-8575-5f1d30eb8f43",
   "metadata": {},
   "outputs": [
    {
     "name": "stderr",
     "output_type": "stream",
     "text": [
      "C:\\Users\\brand\\AppData\\Roaming\\.virtualenvs\\phys_env\\lib\\site-packages\\setuptools\\distutils_patch.py:25: UserWarning: Distutils was imported before Setuptools. This usage is discouraged and may exhibit undesirable behaviors or errors. Please use Setuptools' objects directly or at least import Setuptools first.\n",
      "  warnings.warn(\n"
     ]
    }
   ],
   "source": [
    "import uproot\n",
    "import pandas as pd\n",
    "import numpy as np\n",
    "import scipy\n",
    "import math\n",
    "from matplotlib import pyplot as plt\n",
    "import matplotlib as mpl"
   ]
  },
  {
   "cell_type": "code",
   "execution_count": 21,
   "id": "1b4bcb07-8571-4f74-bed5-4037b515aef7",
   "metadata": {},
   "outputs": [],
   "source": [
    "mpl.rc('font', family='sans-serif') \n",
    "mpl.rc('font', serif='Helvetica Neue') \n",
    "mpl.rcParams.update({'font.size': 20})\n",
    "mpl.rcParams.update({'figure.dpi': 100})\n",
    "\n",
    "pd.set_option('display.width', 200)"
   ]
  },
  {
   "cell_type": "markdown",
   "id": "008b303f-03de-4c38-a6b8-86f78a69492e",
   "metadata": {},
   "source": [
    "## Intro\n",
    "In this section, we will be fitting the data to several histograms to try to extract the hypothetical invariant mass of the Higgs boson."
   ]
  },
  {
   "cell_type": "markdown",
   "id": "21b8f0dd-6c3e-49dd-961e-7894b4dc1bf6",
   "metadata": {},
   "source": [
    "## Notebook Table of Contents:\n",
    "* [Data](#a)\n",
    "* "
   ]
  },
  {
   "cell_type": "markdown",
   "id": "e724b4d1-b8bc-4427-a4c5-0b2ad7aff315",
   "metadata": {},
   "source": [
    "## Data\n",
    "Analysis will be done on 2011 and 2012 data in parallel."
   ]
  },
  {
   "cell_type": "markdown",
   "id": "5afb73ad-acc1-4242-90a9-4b10a2dc45b5",
   "metadata": {},
   "source": [
    "#### Reading Data"
   ]
  },
  {
   "cell_type": "code",
   "execution_count": 22,
   "id": "e9fd691f-6c75-4ce3-a352-a4f3d6045894",
   "metadata": {},
   "outputs": [],
   "source": [
    "# 2011\n",
    "file_2011 = uproot.open(\"tree_TYPE_DATA_2011.root\")\n",
    "tree_2011 = file_2011[\"TYPE_DATA\"]\n",
    "df_2011 = tree_2011.arrays(library='pd')\n",
    "\n",
    "# 2012\n",
    "file_2012 = uproot.open(\"tree_TYPE_DATA_2012.root\")\n",
    "tree_2012 = file_2012[\"tree_TYPE_DATA\"]\n",
    "df_2012 = tree_2012.arrays(library='pd')"
   ]
  },
  {
   "cell_type": "markdown",
   "id": "8147dea9-371a-4c29-a4f7-15bf53f84da7",
   "metadata": {},
   "source": [
    "#### Reading Category Mapping Data\n",
    "Loading the supplementary mapping csv"
   ]
  },
  {
   "cell_type": "code",
   "execution_count": 23,
   "id": "cfe44d1e-0d00-4eeb-b8a1-2c0b9c536d8b",
   "metadata": {},
   "outputs": [
    {
     "name": "stdout",
     "output_type": "stream",
     "text": [
      "   label                    categ_name  sigma_cb  bin_width  bin_width_given  fwhm\n",
      "0      1   Unconv. central, low p_{Tt}      1.45          4                2  3.41\n",
      "1      2  Unconv. central, high p_{Tt}      1.37         12                4  3.22\n",
      "2      3      Unconv. rest, low p_{Tt}      1.57          3                1  3.71\n",
      "3      4     Unconv. rest, high p_{Tt}      1.43          7                2  3.36\n",
      "4      5     Conv. central, low p_{Tt}      1.63          5                2  3.84\n",
      "5      6    Conv. central, high p_{Tt}      1.48         14                4  3.48\n",
      "6      7        Conv. rest, low p_{Tt}      1.79          3                1  4.23\n",
      "7      8    Conv. central, high p_{Tt}      1.61          7                2  3.80\n",
      "8      9              Conv. transition      2.27          4                1  5.52\n",
      "9     10                         2-jet      1.52         13                4  3.59\n",
      "   label                    categ_name  sigma_cb  bin_width_given  fwhm\n",
      "0      1   Unconv. central, low p_{Tt}      1.46                2  3.44\n",
      "1      2  Unconv. central, high p_{Tt}      1.37                4  3.24\n",
      "2      3      Unconv. rest, low p_{Tt}      1.58                1  3.73\n",
      "3      4     Unconv. rest, high p_{Tt}      1.52                2  3.57\n",
      "4      5     Conv. central, low p_{Tt}      1.64                2  3.86\n",
      "5      6    Conv. central, high p_{Tt}      1.50                4  3.53\n",
      "6      7        Conv. rest, low p_{Tt}      1.89                1  4.45\n",
      "7      8    Conv. central, high p_{Tt}      1.65                2  3.90\n",
      "8      9              Conv. transition      2.57                1  6.10\n",
      "9     10                         2-jet      1.59                4  3.74\n"
     ]
    }
   ],
   "source": [
    "categ_mapping_2011 = pd.read_csv('categ_mapping_2011.csv', delimiter=',')\n",
    "print(categ_mapping_2011)\n",
    "categ_mapping_2012 = pd.read_csv('categ_mapping_2012.csv', delimiter=',')\n",
    "print(categ_mapping_2012)"
   ]
  },
  {
   "cell_type": "markdown",
   "id": "f669d39e-339e-40a6-b278-64944772c4ec",
   "metadata": {},
   "source": [
    "#### Splitting Data\n",
    "Dividing data into categories, where `index+1` is the category number (label)"
   ]
  },
  {
   "cell_type": "code",
   "execution_count": 24,
   "id": "a35e1907-4502-4cca-a707-760bbc060715",
   "metadata": {},
   "outputs": [
    {
     "data": {
      "text/plain": [
       "[4        119.114024\n",
       " 9        137.494181\n",
       " 30       131.245063\n",
       " 68       136.011798\n",
       " 76       104.488659\n",
       "             ...    \n",
       " 23736    133.061264\n",
       " 23743    134.103974\n",
       " 23764    117.092334\n",
       " 23770    103.785302\n",
       " 23780    109.134173\n",
       " Name: invariant_mass, Length: 2054, dtype: float64,\n",
       " 319      105.970605\n",
       " 954      137.870636\n",
       " 1022     133.575895\n",
       " 1047     156.404971\n",
       " 1049     102.045109\n",
       "             ...    \n",
       " 22807    103.140680\n",
       " 23112    102.602065\n",
       " 23158    129.189734\n",
       " 23524    112.024812\n",
       " 23757    119.144201\n",
       " Name: invariant_mass, Length: 97, dtype: float64]"
      ]
     },
     "execution_count": 24,
     "metadata": {},
     "output_type": "execute_result"
    }
   ],
   "source": [
    "inv_mass_2011 = [df_2011.loc[df_2011[\"categ_Model10Categories\"]==i+1][\"invariant_mass\"] for i in range(10)]\n",
    "inv_mass_2012 = [df_2012.loc[df_2012[\"categ_Model10Categories\"]==i+1][\"invariant_mass\"] for i in range(10)]\n",
    "inv_mass_2011[:2]"
   ]
  },
  {
   "cell_type": "markdown",
   "id": "1aa3699a-ece3-43f9-ad51-4c1040a41736",
   "metadata": {},
   "source": [
    "Histogram data for invariant mass for each category. `hist_[year]` array will be an array of DataFrames, where `index+1` is category number (label).<br>\n",
    "Note that the `\"bins\"` column represents the BIN CENTERS, not the BIN EDGES."
   ]
  },
  {
   "cell_type": "code",
   "execution_count": 25,
   "id": "15ed4811-9ec0-4b18-9719-a66f37dbe6a8",
   "metadata": {},
   "outputs": [
    {
     "data": {
      "text/html": [
       "<div>\n",
       "<style scoped>\n",
       "    .dataframe tbody tr th:only-of-type {\n",
       "        vertical-align: middle;\n",
       "    }\n",
       "\n",
       "    .dataframe tbody tr th {\n",
       "        vertical-align: top;\n",
       "    }\n",
       "\n",
       "    .dataframe thead th {\n",
       "        text-align: right;\n",
       "    }\n",
       "</style>\n",
       "<table border=\"1\" class=\"dataframe\">\n",
       "  <thead>\n",
       "    <tr style=\"text-align: right;\">\n",
       "      <th></th>\n",
       "      <th>n</th>\n",
       "      <th>bins</th>\n",
       "    </tr>\n",
       "  </thead>\n",
       "  <tbody>\n",
       "    <tr>\n",
       "      <th>0</th>\n",
       "      <td>182</td>\n",
       "      <td>101.034483</td>\n",
       "    </tr>\n",
       "    <tr>\n",
       "      <th>1</th>\n",
       "      <td>151</td>\n",
       "      <td>103.103448</td>\n",
       "    </tr>\n",
       "    <tr>\n",
       "      <th>2</th>\n",
       "      <td>131</td>\n",
       "      <td>105.172414</td>\n",
       "    </tr>\n",
       "    <tr>\n",
       "      <th>3</th>\n",
       "      <td>125</td>\n",
       "      <td>107.241379</td>\n",
       "    </tr>\n",
       "    <tr>\n",
       "      <th>4</th>\n",
       "      <td>123</td>\n",
       "      <td>109.310345</td>\n",
       "    </tr>\n",
       "    <tr>\n",
       "      <th>5</th>\n",
       "      <td>134</td>\n",
       "      <td>111.379310</td>\n",
       "    </tr>\n",
       "    <tr>\n",
       "      <th>6</th>\n",
       "      <td>99</td>\n",
       "      <td>113.448276</td>\n",
       "    </tr>\n",
       "    <tr>\n",
       "      <th>7</th>\n",
       "      <td>94</td>\n",
       "      <td>115.517241</td>\n",
       "    </tr>\n",
       "    <tr>\n",
       "      <th>8</th>\n",
       "      <td>77</td>\n",
       "      <td>117.586207</td>\n",
       "    </tr>\n",
       "    <tr>\n",
       "      <th>9</th>\n",
       "      <td>86</td>\n",
       "      <td>119.655172</td>\n",
       "    </tr>\n",
       "    <tr>\n",
       "      <th>10</th>\n",
       "      <td>69</td>\n",
       "      <td>121.724138</td>\n",
       "    </tr>\n",
       "    <tr>\n",
       "      <th>11</th>\n",
       "      <td>82</td>\n",
       "      <td>123.793103</td>\n",
       "    </tr>\n",
       "    <tr>\n",
       "      <th>12</th>\n",
       "      <td>67</td>\n",
       "      <td>125.862069</td>\n",
       "    </tr>\n",
       "    <tr>\n",
       "      <th>13</th>\n",
       "      <td>63</td>\n",
       "      <td>127.931034</td>\n",
       "    </tr>\n",
       "    <tr>\n",
       "      <th>14</th>\n",
       "      <td>59</td>\n",
       "      <td>130.000000</td>\n",
       "    </tr>\n",
       "    <tr>\n",
       "      <th>15</th>\n",
       "      <td>54</td>\n",
       "      <td>132.068966</td>\n",
       "    </tr>\n",
       "    <tr>\n",
       "      <th>16</th>\n",
       "      <td>45</td>\n",
       "      <td>134.137931</td>\n",
       "    </tr>\n",
       "    <tr>\n",
       "      <th>17</th>\n",
       "      <td>49</td>\n",
       "      <td>136.206897</td>\n",
       "    </tr>\n",
       "    <tr>\n",
       "      <th>18</th>\n",
       "      <td>54</td>\n",
       "      <td>138.275862</td>\n",
       "    </tr>\n",
       "    <tr>\n",
       "      <th>19</th>\n",
       "      <td>42</td>\n",
       "      <td>140.344828</td>\n",
       "    </tr>\n",
       "    <tr>\n",
       "      <th>20</th>\n",
       "      <td>41</td>\n",
       "      <td>142.413793</td>\n",
       "    </tr>\n",
       "    <tr>\n",
       "      <th>21</th>\n",
       "      <td>35</td>\n",
       "      <td>144.482759</td>\n",
       "    </tr>\n",
       "    <tr>\n",
       "      <th>22</th>\n",
       "      <td>42</td>\n",
       "      <td>146.551724</td>\n",
       "    </tr>\n",
       "    <tr>\n",
       "      <th>23</th>\n",
       "      <td>32</td>\n",
       "      <td>148.620690</td>\n",
       "    </tr>\n",
       "    <tr>\n",
       "      <th>24</th>\n",
       "      <td>29</td>\n",
       "      <td>150.689655</td>\n",
       "    </tr>\n",
       "    <tr>\n",
       "      <th>25</th>\n",
       "      <td>23</td>\n",
       "      <td>152.758621</td>\n",
       "    </tr>\n",
       "    <tr>\n",
       "      <th>26</th>\n",
       "      <td>15</td>\n",
       "      <td>154.827586</td>\n",
       "    </tr>\n",
       "    <tr>\n",
       "      <th>27</th>\n",
       "      <td>30</td>\n",
       "      <td>156.896552</td>\n",
       "    </tr>\n",
       "    <tr>\n",
       "      <th>28</th>\n",
       "      <td>21</td>\n",
       "      <td>158.965517</td>\n",
       "    </tr>\n",
       "  </tbody>\n",
       "</table>\n",
       "</div>"
      ],
      "text/plain": [
       "      n        bins\n",
       "0   182  101.034483\n",
       "1   151  103.103448\n",
       "2   131  105.172414\n",
       "3   125  107.241379\n",
       "4   123  109.310345\n",
       "5   134  111.379310\n",
       "6    99  113.448276\n",
       "7    94  115.517241\n",
       "8    77  117.586207\n",
       "9    86  119.655172\n",
       "10   69  121.724138\n",
       "11   82  123.793103\n",
       "12   67  125.862069\n",
       "13   63  127.931034\n",
       "14   59  130.000000\n",
       "15   54  132.068966\n",
       "16   45  134.137931\n",
       "17   49  136.206897\n",
       "18   54  138.275862\n",
       "19   42  140.344828\n",
       "20   41  142.413793\n",
       "21   35  144.482759\n",
       "22   42  146.551724\n",
       "23   32  148.620690\n",
       "24   29  150.689655\n",
       "25   23  152.758621\n",
       "26   15  154.827586\n",
       "27   30  156.896552\n",
       "28   21  158.965517"
      ]
     },
     "metadata": {},
     "output_type": "display_data"
    }
   ],
   "source": [
    "hist_2011 = [pd.DataFrame({\"n\": hist[0], \"bins\": (hist[1][1:]+hist[1][:-1])/2}) for i in range(len(inv_mass_2011)) for bw in [categ_mapping_2011[\"bin_width_given\"][i]] for hist in [np.histogram(inv_mass_2011[i],np.linspace(100, 160, int(60/bw)))]]\n",
    "hist_2012 = [pd.DataFrame({\"n\": hist[0], \"bins\": (hist[1][1:]+hist[1][:-1])/2}) for i in range(len(inv_mass_2012)) for bw in [categ_mapping_2012[\"bin_width_given\"][i]] for hist in [np.histogram(inv_mass_2012[i],np.linspace(100, 160, int(60/bw)))]]\n",
    "display(hist_2011[0])"
   ]
  },
  {
   "cell_type": "markdown",
   "id": "490541f6-b726-46f0-a1fc-770f21d46e7b",
   "metadata": {},
   "source": [
    "## Visualization\n",
    "In this section, we work on visualizing the data."
   ]
  },
  {
   "cell_type": "markdown",
   "id": "1ff05ee5-034c-4a31-997b-8d71143a9743",
   "metadata": {},
   "source": [
    "#### Total\n",
    "First, we will plot the histogram for total (uncategorized) invariant mass"
   ]
  },
  {
   "cell_type": "code",
   "execution_count": 26,
   "id": "8f29ba1b-c144-4c42-bb7e-0d8b2bca51be",
   "metadata": {},
   "outputs": [
    {
     "data": {
      "image/png": "[encoded data removed]",
      "text/plain": [
       "<Figure size 1000x1000 with 1 Axes>"
      ]
     },
     "metadata": {
      "needs_background": "light"
     },
     "output_type": "display_data"
    }
   ],
   "source": [
    "fig, ax = plt.subplots(figsize=(10, 10))\n",
    "ax.set_title(\"Invariant Mass Distribution\")\n",
    "\n",
    "n_total_2011, bin_total_2011 = np.histogram(df_2011[\"invariant_mass\"], 30)\n",
    "bin_centers_2011 = (bin_total_2011[1:]+bin_total_2011[:-1])/2\n",
    "ax.errorbar(\n",
    "    bin_centers_2011,\n",
    "    n_total_2011,\n",
    "    yerr=np.sqrt(n_total_2011),\n",
    "    fmt='o',\n",
    "    label=\"2011\"\n",
    ")\n",
    "\n",
    "n_total_2012, bin_total_2012 = np.histogram(df_2012[\"invariant_mass\"], 30)\n",
    "bin_centers_2012 = (bin_total_2012[1:]+bin_total_2012[:-1])/2\n",
    "\n",
    "ax.errorbar(\n",
    "    bin_centers_2012,\n",
    "    n_total_2012,\n",
    "    yerr=np.sqrt(n_total_2012),\n",
    "    fmt='o',\n",
    "    label=\"2012\"\n",
    ")\n",
    "\n",
    "ax.legend()\n",
    "ax.set_xlim(100,160)\n",
    "ax.grid()"
   ]
  },
  {
   "cell_type": "markdown",
   "id": "3cea97be-5dac-4736-b201-a4499ab75f6c",
   "metadata": {},
   "source": [
    "#### Categorical Histograms\n",
    "Next, we will plot the categorical invariant mass"
   ]
  },
  {
   "cell_type": "code",
   "execution_count": 27,
   "id": "60405558-e743-41c6-b9df-33d9e5efa864",
   "metadata": {},
   "outputs": [
    {
     "ename": "RuntimeError",
     "evalue": "latex was not able to process the following string:\nb'Unconv. central, low p_{Tt}'\n\nHere is the full report generated by latex:\nThis is pdfTeX, Version 3.141592653-2.6-1.40.23 (TeX Live 2021/W32TeX) (preloaded format=latex)\r\n restricted \\write18 enabled.\r\nentering extended mode\r\n(c:/Users/brand/.matplotlib/tex.cache/036cb9edc9e21221b4397ff27676fcff.tex\r\nLaTeX2e <2021-11-15> patch level 1\r\nL3 programming layer <2022-01-12>\r\n(c:/texlive/2021/texmf-dist/tex/latex/base/article.cls\r\nDocument Class: article 2021/10/04 v1.4n Standard LaTeX document class\r\n(c:/texlive/2021/texmf-dist/tex/latex/base/size10.clo))\r\n(c:/texlive/2021/texmf-dist/tex/latex/type1cm/type1cm.sty)\r\n(c:/texlive/2021/texmf-dist/tex/latex/cm-super/type1ec.sty\r\n(c:/texlive/2021/texmf-dist/tex/latex/base/t1cmr.fd))\r\n(c:/texlive/2021/texmf-dist/tex/latex/base/inputenc.sty)\r\n(c:/texlive/2021/texmf-dist/tex/latex/geometry/geometry.sty\r\n(c:/texlive/2021/texmf-dist/tex/latex/graphics/keyval.sty)\r\n(c:/texlive/2021/texmf-dist/tex/generic/iftex/ifvtex.sty\r\n(c:/texlive/2021/texmf-dist/tex/generic/iftex/iftex.sty))\r\n\r\nPackage geometry Warning: Over-specification in `h'-direction.\r\n    `width' (5058.9pt) is ignored.\r\n\r\n\r\nPackage geometry Warning: Over-specification in `v'-direction.\r\n    `height' (5058.9pt) is ignored.\r\n\r\n) (c:/texlive/2021/texmf-dist/tex/latex/base/textcomp.sty)\r\n(c:/texlive/2021/texmf-dist/tex/latex/l3backend/l3backend-dvips.def)\r\n(./036cb9edc9e21221b4397ff27676fcff.aux)\r\n*geometry* driver: auto-detecting\r\n*geometry* detected driver: dvips\r\n! Missing $ inserted.\r\n<inserted text> \r\n                $\r\nl.19 {\\sffamily Unconv. central, low p_\r\n                                       {Tt}}\r\nNo pages of output.\r\nTranscript written on 036cb9edc9e21221b4397ff27676fcff.log.\r\n\n\n",
     "output_type": "error",
     "traceback": [
      "\u001b[1;31m---------------------------------------------------------------------------\u001b[0m",
      "\u001b[1;31mCalledProcessError\u001b[0m                        Traceback (most recent call last)",
      "\u001b[1;32m~\\AppData\\Roaming\\.virtualenvs\\phys_env\\lib\\site-packages\\matplotlib\\texmanager.py\u001b[0m in \u001b[0;36m_run_checked_subprocess\u001b[1;34m(self, command, tex)\u001b[0m\n\u001b[0;32m    274\u001b[0m         \u001b[1;32mtry\u001b[0m\u001b[1;33m:\u001b[0m\u001b[1;33m\u001b[0m\u001b[1;33m\u001b[0m\u001b[0m\n\u001b[1;32m--> 275\u001b[1;33m             report = subprocess.check_output(command,\n\u001b[0m\u001b[0;32m    276\u001b[0m                                              \u001b[0mcwd\u001b[0m\u001b[1;33m=\u001b[0m\u001b[0mself\u001b[0m\u001b[1;33m.\u001b[0m\u001b[0mtexcache\u001b[0m\u001b[1;33m,\u001b[0m\u001b[1;33m\u001b[0m\u001b[1;33m\u001b[0m\u001b[0m\n",
      "\u001b[1;32m~\\AppData\\Local\\Programs\\Python\\Python39\\lib\\subprocess.py\u001b[0m in \u001b[0;36mcheck_output\u001b[1;34m(timeout, *popenargs, **kwargs)\u001b[0m\n\u001b[0;32m    419\u001b[0m \u001b[1;33m\u001b[0m\u001b[0m\n\u001b[1;32m--> 420\u001b[1;33m     return run(*popenargs, stdout=PIPE, timeout=timeout, check=True,\n\u001b[0m\u001b[0;32m    421\u001b[0m                **kwargs).stdout\n",
      "\u001b[1;32m~\\AppData\\Local\\Programs\\Python\\Python39\\lib\\subprocess.py\u001b[0m in \u001b[0;36mrun\u001b[1;34m(input, capture_output, timeout, check, *popenargs, **kwargs)\u001b[0m\n\u001b[0;32m    523\u001b[0m         \u001b[1;32mif\u001b[0m \u001b[0mcheck\u001b[0m \u001b[1;32mand\u001b[0m \u001b[0mretcode\u001b[0m\u001b[1;33m:\u001b[0m\u001b[1;33m\u001b[0m\u001b[1;33m\u001b[0m\u001b[0m\n\u001b[1;32m--> 524\u001b[1;33m             raise CalledProcessError(retcode, process.args,\n\u001b[0m\u001b[0;32m    525\u001b[0m                                      output=stdout, stderr=stderr)\n",
      "\u001b[1;31mCalledProcessError\u001b[0m: Command '['latex', '-interaction=nonstopmode', '--halt-on-error', 'C:\\\\Users\\\\brand\\\\.matplotlib\\\\tex.cache\\\\036cb9edc9e21221b4397ff27676fcff.tex']' returned non-zero exit status 1.",
      "\nThe above exception was the direct cause of the following exception:\n",
      "\u001b[1;31mRuntimeError\u001b[0m                              Traceback (most recent call last)",
      "\u001b[1;32m~\\AppData\\Roaming\\.virtualenvs\\phys_env\\lib\\site-packages\\IPython\\core\\formatters.py\u001b[0m in \u001b[0;36m__call__\u001b[1;34m(self, obj)\u001b[0m\n\u001b[0;32m    339\u001b[0m                 \u001b[1;32mpass\u001b[0m\u001b[1;33m\u001b[0m\u001b[1;33m\u001b[0m\u001b[0m\n\u001b[0;32m    340\u001b[0m             \u001b[1;32melse\u001b[0m\u001b[1;33m:\u001b[0m\u001b[1;33m\u001b[0m\u001b[1;33m\u001b[0m\u001b[0m\n\u001b[1;32m--> 341\u001b[1;33m                 \u001b[1;32mreturn\u001b[0m \u001b[0mprinter\u001b[0m\u001b[1;33m(\u001b[0m\u001b[0mobj\u001b[0m\u001b[1;33m)\u001b[0m\u001b[1;33m\u001b[0m\u001b[1;33m\u001b[0m\u001b[0m\n\u001b[0m\u001b[0;32m    342\u001b[0m             \u001b[1;31m# Finally look for special method names\u001b[0m\u001b[1;33m\u001b[0m\u001b[1;33m\u001b[0m\u001b[1;33m\u001b[0m\u001b[0m\n\u001b[0;32m    343\u001b[0m             \u001b[0mmethod\u001b[0m \u001b[1;33m=\u001b[0m \u001b[0mget_real_method\u001b[0m\u001b[1;33m(\u001b[0m\u001b[0mobj\u001b[0m\u001b[1;33m,\u001b[0m \u001b[0mself\u001b[0m\u001b[1;33m.\u001b[0m\u001b[0mprint_method\u001b[0m\u001b[1;33m)\u001b[0m\u001b[1;33m\u001b[0m\u001b[1;33m\u001b[0m\u001b[0m\n",
      "\u001b[1;32m~\\AppData\\Roaming\\.virtualenvs\\phys_env\\lib\\site-packages\\IPython\\core\\pylabtools.py\u001b[0m in \u001b[0;36m<lambda>\u001b[1;34m(fig)\u001b[0m\n\u001b[0;32m    246\u001b[0m \u001b[1;33m\u001b[0m\u001b[0m\n\u001b[0;32m    247\u001b[0m     \u001b[1;32mif\u001b[0m \u001b[1;34m'png'\u001b[0m \u001b[1;32min\u001b[0m \u001b[0mformats\u001b[0m\u001b[1;33m:\u001b[0m\u001b[1;33m\u001b[0m\u001b[1;33m\u001b[0m\u001b[0m\n\u001b[1;32m--> 248\u001b[1;33m         \u001b[0mpng_formatter\u001b[0m\u001b[1;33m.\u001b[0m\u001b[0mfor_type\u001b[0m\u001b[1;33m(\u001b[0m\u001b[0mFigure\u001b[0m\u001b[1;33m,\u001b[0m \u001b[1;32mlambda\u001b[0m \u001b[0mfig\u001b[0m\u001b[1;33m:\u001b[0m \u001b[0mprint_figure\u001b[0m\u001b[1;33m(\u001b[0m\u001b[0mfig\u001b[0m\u001b[1;33m,\u001b[0m \u001b[1;34m'png'\u001b[0m\u001b[1;33m,\u001b[0m \u001b[1;33m**\u001b[0m\u001b[0mkwargs\u001b[0m\u001b[1;33m)\u001b[0m\u001b[1;33m)\u001b[0m\u001b[1;33m\u001b[0m\u001b[1;33m\u001b[0m\u001b[0m\n\u001b[0m\u001b[0;32m    249\u001b[0m     \u001b[1;32mif\u001b[0m \u001b[1;34m'retina'\u001b[0m \u001b[1;32min\u001b[0m \u001b[0mformats\u001b[0m \u001b[1;32mor\u001b[0m \u001b[1;34m'png2x'\u001b[0m \u001b[1;32min\u001b[0m \u001b[0mformats\u001b[0m\u001b[1;33m:\u001b[0m\u001b[1;33m\u001b[0m\u001b[1;33m\u001b[0m\u001b[0m\n\u001b[0;32m    250\u001b[0m         \u001b[0mpng_formatter\u001b[0m\u001b[1;33m.\u001b[0m\u001b[0mfor_type\u001b[0m\u001b[1;33m(\u001b[0m\u001b[0mFigure\u001b[0m\u001b[1;33m,\u001b[0m \u001b[1;32mlambda\u001b[0m \u001b[0mfig\u001b[0m\u001b[1;33m:\u001b[0m \u001b[0mretina_figure\u001b[0m\u001b[1;33m(\u001b[0m\u001b[0mfig\u001b[0m\u001b[1;33m,\u001b[0m \u001b[1;33m**\u001b[0m\u001b[0mkwargs\u001b[0m\u001b[1;33m)\u001b[0m\u001b[1;33m)\u001b[0m\u001b[1;33m\u001b[0m\u001b[1;33m\u001b[0m\u001b[0m\n",
      "\u001b[1;32m~\\AppData\\Roaming\\.virtualenvs\\phys_env\\lib\\site-packages\\IPython\\core\\pylabtools.py\u001b[0m in \u001b[0;36mprint_figure\u001b[1;34m(fig, fmt, bbox_inches, **kwargs)\u001b[0m\n\u001b[0;32m    130\u001b[0m         \u001b[0mFigureCanvasBase\u001b[0m\u001b[1;33m(\u001b[0m\u001b[0mfig\u001b[0m\u001b[1;33m)\u001b[0m\u001b[1;33m\u001b[0m\u001b[1;33m\u001b[0m\u001b[0m\n\u001b[0;32m    131\u001b[0m \u001b[1;33m\u001b[0m\u001b[0m\n\u001b[1;32m--> 132\u001b[1;33m     \u001b[0mfig\u001b[0m\u001b[1;33m.\u001b[0m\u001b[0mcanvas\u001b[0m\u001b[1;33m.\u001b[0m\u001b[0mprint_figure\u001b[0m\u001b[1;33m(\u001b[0m\u001b[0mbytes_io\u001b[0m\u001b[1;33m,\u001b[0m \u001b[1;33m**\u001b[0m\u001b[0mkw\u001b[0m\u001b[1;33m)\u001b[0m\u001b[1;33m\u001b[0m\u001b[1;33m\u001b[0m\u001b[0m\n\u001b[0m\u001b[0;32m    133\u001b[0m     \u001b[0mdata\u001b[0m \u001b[1;33m=\u001b[0m \u001b[0mbytes_io\u001b[0m\u001b[1;33m.\u001b[0m\u001b[0mgetvalue\u001b[0m\u001b[1;33m(\u001b[0m\u001b[1;33m)\u001b[0m\u001b[1;33m\u001b[0m\u001b[1;33m\u001b[0m\u001b[0m\n\u001b[0;32m    134\u001b[0m     \u001b[1;32mif\u001b[0m \u001b[0mfmt\u001b[0m \u001b[1;33m==\u001b[0m \u001b[1;34m'svg'\u001b[0m\u001b[1;33m:\u001b[0m\u001b[1;33m\u001b[0m\u001b[1;33m\u001b[0m\u001b[0m\n",
      "\u001b[1;32m~\\AppData\\Roaming\\.virtualenvs\\phys_env\\lib\\site-packages\\matplotlib\\backend_bases.py\u001b[0m in \u001b[0;36mprint_figure\u001b[1;34m(self, filename, dpi, facecolor, edgecolor, orientation, format, bbox_inches, pad_inches, bbox_extra_artists, backend, **kwargs)\u001b[0m\n\u001b[0;32m   2191\u001b[0m                            else suppress())\n\u001b[0;32m   2192\u001b[0m                     \u001b[1;32mwith\u001b[0m \u001b[0mctx\u001b[0m\u001b[1;33m:\u001b[0m\u001b[1;33m\u001b[0m\u001b[1;33m\u001b[0m\u001b[0m\n\u001b[1;32m-> 2193\u001b[1;33m                         \u001b[0mself\u001b[0m\u001b[1;33m.\u001b[0m\u001b[0mfigure\u001b[0m\u001b[1;33m.\u001b[0m\u001b[0mdraw\u001b[0m\u001b[1;33m(\u001b[0m\u001b[0mrenderer\u001b[0m\u001b[1;33m)\u001b[0m\u001b[1;33m\u001b[0m\u001b[1;33m\u001b[0m\u001b[0m\n\u001b[0m\u001b[0;32m   2194\u001b[0m \u001b[1;33m\u001b[0m\u001b[0m\n\u001b[0;32m   2195\u001b[0m                     bbox_inches = self.figure.get_tightbbox(\n",
      "\u001b[1;32m~\\AppData\\Roaming\\.virtualenvs\\phys_env\\lib\\site-packages\\matplotlib\\artist.py\u001b[0m in \u001b[0;36mdraw_wrapper\u001b[1;34m(artist, renderer, *args, **kwargs)\u001b[0m\n\u001b[0;32m     39\u001b[0m                 \u001b[0mrenderer\u001b[0m\u001b[1;33m.\u001b[0m\u001b[0mstart_filter\u001b[0m\u001b[1;33m(\u001b[0m\u001b[1;33m)\u001b[0m\u001b[1;33m\u001b[0m\u001b[1;33m\u001b[0m\u001b[0m\n\u001b[0;32m     40\u001b[0m \u001b[1;33m\u001b[0m\u001b[0m\n\u001b[1;32m---> 41\u001b[1;33m             \u001b[1;32mreturn\u001b[0m \u001b[0mdraw\u001b[0m\u001b[1;33m(\u001b[0m\u001b[0martist\u001b[0m\u001b[1;33m,\u001b[0m \u001b[0mrenderer\u001b[0m\u001b[1;33m,\u001b[0m \u001b[1;33m*\u001b[0m\u001b[0margs\u001b[0m\u001b[1;33m,\u001b[0m \u001b[1;33m**\u001b[0m\u001b[0mkwargs\u001b[0m\u001b[1;33m)\u001b[0m\u001b[1;33m\u001b[0m\u001b[1;33m\u001b[0m\u001b[0m\n\u001b[0m\u001b[0;32m     42\u001b[0m         \u001b[1;32mfinally\u001b[0m\u001b[1;33m:\u001b[0m\u001b[1;33m\u001b[0m\u001b[1;33m\u001b[0m\u001b[0m\n\u001b[0;32m     43\u001b[0m             \u001b[1;32mif\u001b[0m \u001b[0martist\u001b[0m\u001b[1;33m.\u001b[0m\u001b[0mget_agg_filter\u001b[0m\u001b[1;33m(\u001b[0m\u001b[1;33m)\u001b[0m \u001b[1;32mis\u001b[0m \u001b[1;32mnot\u001b[0m \u001b[1;32mNone\u001b[0m\u001b[1;33m:\u001b[0m\u001b[1;33m\u001b[0m\u001b[1;33m\u001b[0m\u001b[0m\n",
      "\u001b[1;32m~\\AppData\\Roaming\\.virtualenvs\\phys_env\\lib\\site-packages\\matplotlib\\figure.py\u001b[0m in \u001b[0;36mdraw\u001b[1;34m(self, renderer)\u001b[0m\n\u001b[0;32m   1861\u001b[0m \u001b[1;33m\u001b[0m\u001b[0m\n\u001b[0;32m   1862\u001b[0m             \u001b[0mself\u001b[0m\u001b[1;33m.\u001b[0m\u001b[0mpatch\u001b[0m\u001b[1;33m.\u001b[0m\u001b[0mdraw\u001b[0m\u001b[1;33m(\u001b[0m\u001b[0mrenderer\u001b[0m\u001b[1;33m)\u001b[0m\u001b[1;33m\u001b[0m\u001b[1;33m\u001b[0m\u001b[0m\n\u001b[1;32m-> 1863\u001b[1;33m             mimage._draw_list_compositing_images(\n\u001b[0m\u001b[0;32m   1864\u001b[0m                 renderer, self, artists, self.suppressComposite)\n\u001b[0;32m   1865\u001b[0m \u001b[1;33m\u001b[0m\u001b[0m\n",
      "\u001b[1;32m~\\AppData\\Roaming\\.virtualenvs\\phys_env\\lib\\site-packages\\matplotlib\\image.py\u001b[0m in \u001b[0;36m_draw_list_compositing_images\u001b[1;34m(renderer, parent, artists, suppress_composite)\u001b[0m\n\u001b[0;32m    129\u001b[0m     \u001b[1;32mif\u001b[0m \u001b[0mnot_composite\u001b[0m \u001b[1;32mor\u001b[0m \u001b[1;32mnot\u001b[0m \u001b[0mhas_images\u001b[0m\u001b[1;33m:\u001b[0m\u001b[1;33m\u001b[0m\u001b[1;33m\u001b[0m\u001b[0m\n\u001b[0;32m    130\u001b[0m         \u001b[1;32mfor\u001b[0m \u001b[0ma\u001b[0m \u001b[1;32min\u001b[0m \u001b[0martists\u001b[0m\u001b[1;33m:\u001b[0m\u001b[1;33m\u001b[0m\u001b[1;33m\u001b[0m\u001b[0m\n\u001b[1;32m--> 131\u001b[1;33m             \u001b[0ma\u001b[0m\u001b[1;33m.\u001b[0m\u001b[0mdraw\u001b[0m\u001b[1;33m(\u001b[0m\u001b[0mrenderer\u001b[0m\u001b[1;33m)\u001b[0m\u001b[1;33m\u001b[0m\u001b[1;33m\u001b[0m\u001b[0m\n\u001b[0m\u001b[0;32m    132\u001b[0m     \u001b[1;32melse\u001b[0m\u001b[1;33m:\u001b[0m\u001b[1;33m\u001b[0m\u001b[1;33m\u001b[0m\u001b[0m\n\u001b[0;32m    133\u001b[0m         \u001b[1;31m# Composite any adjacent images together\u001b[0m\u001b[1;33m\u001b[0m\u001b[1;33m\u001b[0m\u001b[1;33m\u001b[0m\u001b[0m\n",
      "\u001b[1;32m~\\AppData\\Roaming\\.virtualenvs\\phys_env\\lib\\site-packages\\matplotlib\\artist.py\u001b[0m in \u001b[0;36mdraw_wrapper\u001b[1;34m(artist, renderer, *args, **kwargs)\u001b[0m\n\u001b[0;32m     39\u001b[0m                 \u001b[0mrenderer\u001b[0m\u001b[1;33m.\u001b[0m\u001b[0mstart_filter\u001b[0m\u001b[1;33m(\u001b[0m\u001b[1;33m)\u001b[0m\u001b[1;33m\u001b[0m\u001b[1;33m\u001b[0m\u001b[0m\n\u001b[0;32m     40\u001b[0m \u001b[1;33m\u001b[0m\u001b[0m\n\u001b[1;32m---> 41\u001b[1;33m             \u001b[1;32mreturn\u001b[0m \u001b[0mdraw\u001b[0m\u001b[1;33m(\u001b[0m\u001b[0martist\u001b[0m\u001b[1;33m,\u001b[0m \u001b[0mrenderer\u001b[0m\u001b[1;33m,\u001b[0m \u001b[1;33m*\u001b[0m\u001b[0margs\u001b[0m\u001b[1;33m,\u001b[0m \u001b[1;33m**\u001b[0m\u001b[0mkwargs\u001b[0m\u001b[1;33m)\u001b[0m\u001b[1;33m\u001b[0m\u001b[1;33m\u001b[0m\u001b[0m\n\u001b[0m\u001b[0;32m     42\u001b[0m         \u001b[1;32mfinally\u001b[0m\u001b[1;33m:\u001b[0m\u001b[1;33m\u001b[0m\u001b[1;33m\u001b[0m\u001b[0m\n\u001b[0;32m     43\u001b[0m             \u001b[1;32mif\u001b[0m \u001b[0martist\u001b[0m\u001b[1;33m.\u001b[0m\u001b[0mget_agg_filter\u001b[0m\u001b[1;33m(\u001b[0m\u001b[1;33m)\u001b[0m \u001b[1;32mis\u001b[0m \u001b[1;32mnot\u001b[0m \u001b[1;32mNone\u001b[0m\u001b[1;33m:\u001b[0m\u001b[1;33m\u001b[0m\u001b[1;33m\u001b[0m\u001b[0m\n",
      "\u001b[1;32m~\\AppData\\Roaming\\.virtualenvs\\phys_env\\lib\\site-packages\\matplotlib\\cbook\\deprecation.py\u001b[0m in \u001b[0;36mwrapper\u001b[1;34m(*inner_args, **inner_kwargs)\u001b[0m\n\u001b[0;32m    409\u001b[0m                          \u001b[1;32melse\u001b[0m \u001b[0mdeprecation_addendum\u001b[0m\u001b[1;33m,\u001b[0m\u001b[1;33m\u001b[0m\u001b[1;33m\u001b[0m\u001b[0m\n\u001b[0;32m    410\u001b[0m                 **kwargs)\n\u001b[1;32m--> 411\u001b[1;33m         \u001b[1;32mreturn\u001b[0m \u001b[0mfunc\u001b[0m\u001b[1;33m(\u001b[0m\u001b[1;33m*\u001b[0m\u001b[0minner_args\u001b[0m\u001b[1;33m,\u001b[0m \u001b[1;33m**\u001b[0m\u001b[0minner_kwargs\u001b[0m\u001b[1;33m)\u001b[0m\u001b[1;33m\u001b[0m\u001b[1;33m\u001b[0m\u001b[0m\n\u001b[0m\u001b[0;32m    412\u001b[0m \u001b[1;33m\u001b[0m\u001b[0m\n\u001b[0;32m    413\u001b[0m     \u001b[1;32mreturn\u001b[0m \u001b[0mwrapper\u001b[0m\u001b[1;33m\u001b[0m\u001b[1;33m\u001b[0m\u001b[0m\n",
      "\u001b[1;32m~\\AppData\\Roaming\\.virtualenvs\\phys_env\\lib\\site-packages\\matplotlib\\axes\\_base.py\u001b[0m in \u001b[0;36mdraw\u001b[1;34m(self, renderer, inframe)\u001b[0m\n\u001b[0;32m   2705\u001b[0m                 \u001b[0martists\u001b[0m\u001b[1;33m.\u001b[0m\u001b[0mremove\u001b[0m\u001b[1;33m(\u001b[0m\u001b[0mspine\u001b[0m\u001b[1;33m)\u001b[0m\u001b[1;33m\u001b[0m\u001b[1;33m\u001b[0m\u001b[0m\n\u001b[0;32m   2706\u001b[0m \u001b[1;33m\u001b[0m\u001b[0m\n\u001b[1;32m-> 2707\u001b[1;33m         \u001b[0mself\u001b[0m\u001b[1;33m.\u001b[0m\u001b[0m_update_title_position\u001b[0m\u001b[1;33m(\u001b[0m\u001b[0mrenderer\u001b[0m\u001b[1;33m)\u001b[0m\u001b[1;33m\u001b[0m\u001b[1;33m\u001b[0m\u001b[0m\n\u001b[0m\u001b[0;32m   2708\u001b[0m \u001b[1;33m\u001b[0m\u001b[0m\n\u001b[0;32m   2709\u001b[0m         \u001b[1;32mif\u001b[0m \u001b[1;32mnot\u001b[0m \u001b[0mself\u001b[0m\u001b[1;33m.\u001b[0m\u001b[0maxison\u001b[0m \u001b[1;32mor\u001b[0m \u001b[0minframe\u001b[0m\u001b[1;33m:\u001b[0m\u001b[1;33m\u001b[0m\u001b[1;33m\u001b[0m\u001b[0m\n",
      "\u001b[1;32m~\\AppData\\Roaming\\.virtualenvs\\phys_env\\lib\\site-packages\\matplotlib\\axes\\_base.py\u001b[0m in \u001b[0;36m_update_title_position\u001b[1;34m(self, renderer)\u001b[0m\n\u001b[0;32m   2646\u001b[0m                 \u001b[0m_log\u001b[0m\u001b[1;33m.\u001b[0m\u001b[0mdebug\u001b[0m\u001b[1;33m(\u001b[0m\u001b[1;34m'top of axes not in the figure, so title not moved'\u001b[0m\u001b[1;33m)\u001b[0m\u001b[1;33m\u001b[0m\u001b[1;33m\u001b[0m\u001b[0m\n\u001b[0;32m   2647\u001b[0m                 \u001b[1;32mreturn\u001b[0m\u001b[1;33m\u001b[0m\u001b[1;33m\u001b[0m\u001b[0m\n\u001b[1;32m-> 2648\u001b[1;33m             \u001b[1;32mif\u001b[0m \u001b[0mtitle\u001b[0m\u001b[1;33m.\u001b[0m\u001b[0mget_window_extent\u001b[0m\u001b[1;33m(\u001b[0m\u001b[0mrenderer\u001b[0m\u001b[1;33m)\u001b[0m\u001b[1;33m.\u001b[0m\u001b[0mymin\u001b[0m \u001b[1;33m<\u001b[0m \u001b[0mtop\u001b[0m\u001b[1;33m:\u001b[0m\u001b[1;33m\u001b[0m\u001b[1;33m\u001b[0m\u001b[0m\n\u001b[0m\u001b[0;32m   2649\u001b[0m                 \u001b[0m_\u001b[0m\u001b[1;33m,\u001b[0m \u001b[0my\u001b[0m \u001b[1;33m=\u001b[0m \u001b[0mself\u001b[0m\u001b[1;33m.\u001b[0m\u001b[0mtransAxes\u001b[0m\u001b[1;33m.\u001b[0m\u001b[0minverted\u001b[0m\u001b[1;33m(\u001b[0m\u001b[1;33m)\u001b[0m\u001b[1;33m.\u001b[0m\u001b[0mtransform\u001b[0m\u001b[1;33m(\u001b[0m\u001b[1;33m(\u001b[0m\u001b[1;36m0\u001b[0m\u001b[1;33m,\u001b[0m \u001b[0mtop\u001b[0m\u001b[1;33m)\u001b[0m\u001b[1;33m)\u001b[0m\u001b[1;33m\u001b[0m\u001b[1;33m\u001b[0m\u001b[0m\n\u001b[0;32m   2650\u001b[0m                 \u001b[0mtitle\u001b[0m\u001b[1;33m.\u001b[0m\u001b[0mset_position\u001b[0m\u001b[1;33m(\u001b[0m\u001b[1;33m(\u001b[0m\u001b[0mx\u001b[0m\u001b[1;33m,\u001b[0m \u001b[0my\u001b[0m\u001b[1;33m)\u001b[0m\u001b[1;33m)\u001b[0m\u001b[1;33m\u001b[0m\u001b[1;33m\u001b[0m\u001b[0m\n",
      "\u001b[1;32m~\\AppData\\Roaming\\.virtualenvs\\phys_env\\lib\\site-packages\\matplotlib\\text.py\u001b[0m in \u001b[0;36mget_window_extent\u001b[1;34m(self, renderer, dpi)\u001b[0m\n\u001b[0;32m    900\u001b[0m \u001b[1;33m\u001b[0m\u001b[0m\n\u001b[0;32m    901\u001b[0m         \u001b[1;32mwith\u001b[0m \u001b[0mcbook\u001b[0m\u001b[1;33m.\u001b[0m\u001b[0m_setattr_cm\u001b[0m\u001b[1;33m(\u001b[0m\u001b[0mself\u001b[0m\u001b[1;33m.\u001b[0m\u001b[0mfigure\u001b[0m\u001b[1;33m,\u001b[0m \u001b[0mdpi\u001b[0m\u001b[1;33m=\u001b[0m\u001b[0mdpi\u001b[0m\u001b[1;33m)\u001b[0m\u001b[1;33m:\u001b[0m\u001b[1;33m\u001b[0m\u001b[1;33m\u001b[0m\u001b[0m\n\u001b[1;32m--> 902\u001b[1;33m             \u001b[0mbbox\u001b[0m\u001b[1;33m,\u001b[0m \u001b[0minfo\u001b[0m\u001b[1;33m,\u001b[0m \u001b[0mdescent\u001b[0m \u001b[1;33m=\u001b[0m \u001b[0mself\u001b[0m\u001b[1;33m.\u001b[0m\u001b[0m_get_layout\u001b[0m\u001b[1;33m(\u001b[0m\u001b[0mself\u001b[0m\u001b[1;33m.\u001b[0m\u001b[0m_renderer\u001b[0m\u001b[1;33m)\u001b[0m\u001b[1;33m\u001b[0m\u001b[1;33m\u001b[0m\u001b[0m\n\u001b[0m\u001b[0;32m    903\u001b[0m             \u001b[0mx\u001b[0m\u001b[1;33m,\u001b[0m \u001b[0my\u001b[0m \u001b[1;33m=\u001b[0m \u001b[0mself\u001b[0m\u001b[1;33m.\u001b[0m\u001b[0mget_unitless_position\u001b[0m\u001b[1;33m(\u001b[0m\u001b[1;33m)\u001b[0m\u001b[1;33m\u001b[0m\u001b[1;33m\u001b[0m\u001b[0m\n\u001b[0;32m    904\u001b[0m             \u001b[0mx\u001b[0m\u001b[1;33m,\u001b[0m \u001b[0my\u001b[0m \u001b[1;33m=\u001b[0m \u001b[0mself\u001b[0m\u001b[1;33m.\u001b[0m\u001b[0mget_transform\u001b[0m\u001b[1;33m(\u001b[0m\u001b[1;33m)\u001b[0m\u001b[1;33m.\u001b[0m\u001b[0mtransform\u001b[0m\u001b[1;33m(\u001b[0m\u001b[1;33m(\u001b[0m\u001b[0mx\u001b[0m\u001b[1;33m,\u001b[0m \u001b[0my\u001b[0m\u001b[1;33m)\u001b[0m\u001b[1;33m)\u001b[0m\u001b[1;33m\u001b[0m\u001b[1;33m\u001b[0m\u001b[0m\n",
      "\u001b[1;32m~\\AppData\\Roaming\\.virtualenvs\\phys_env\\lib\\site-packages\\matplotlib\\text.py\u001b[0m in \u001b[0;36m_get_layout\u001b[1;34m(self, renderer)\u001b[0m\n\u001b[0;32m    293\u001b[0m             \u001b[0mclean_line\u001b[0m\u001b[1;33m,\u001b[0m \u001b[0mismath\u001b[0m \u001b[1;33m=\u001b[0m \u001b[0mself\u001b[0m\u001b[1;33m.\u001b[0m\u001b[0m_preprocess_math\u001b[0m\u001b[1;33m(\u001b[0m\u001b[0mline\u001b[0m\u001b[1;33m)\u001b[0m\u001b[1;33m\u001b[0m\u001b[1;33m\u001b[0m\u001b[0m\n\u001b[0;32m    294\u001b[0m             \u001b[1;32mif\u001b[0m \u001b[0mclean_line\u001b[0m\u001b[1;33m:\u001b[0m\u001b[1;33m\u001b[0m\u001b[1;33m\u001b[0m\u001b[0m\n\u001b[1;32m--> 295\u001b[1;33m                 w, h, d = renderer.get_text_width_height_descent(\n\u001b[0m\u001b[0;32m    296\u001b[0m                     clean_line, self._fontproperties, ismath=ismath)\n\u001b[0;32m    297\u001b[0m             \u001b[1;32melse\u001b[0m\u001b[1;33m:\u001b[0m\u001b[1;33m\u001b[0m\u001b[1;33m\u001b[0m\u001b[0m\n",
      "\u001b[1;32m~\\AppData\\Roaming\\.virtualenvs\\phys_env\\lib\\site-packages\\matplotlib\\backends\\backend_agg.py\u001b[0m in \u001b[0;36mget_text_width_height_descent\u001b[1;34m(self, s, prop, ismath)\u001b[0m\n\u001b[0;32m    225\u001b[0m             \u001b[0mtexmanager\u001b[0m \u001b[1;33m=\u001b[0m \u001b[0mself\u001b[0m\u001b[1;33m.\u001b[0m\u001b[0mget_texmanager\u001b[0m\u001b[1;33m(\u001b[0m\u001b[1;33m)\u001b[0m\u001b[1;33m\u001b[0m\u001b[1;33m\u001b[0m\u001b[0m\n\u001b[0;32m    226\u001b[0m             \u001b[0mfontsize\u001b[0m \u001b[1;33m=\u001b[0m \u001b[0mprop\u001b[0m\u001b[1;33m.\u001b[0m\u001b[0mget_size_in_points\u001b[0m\u001b[1;33m(\u001b[0m\u001b[1;33m)\u001b[0m\u001b[1;33m\u001b[0m\u001b[1;33m\u001b[0m\u001b[0m\n\u001b[1;32m--> 227\u001b[1;33m             w, h, d = texmanager.get_text_width_height_descent(\n\u001b[0m\u001b[0;32m    228\u001b[0m                 s, fontsize, renderer=self)\n\u001b[0;32m    229\u001b[0m             \u001b[1;32mreturn\u001b[0m \u001b[0mw\u001b[0m\u001b[1;33m,\u001b[0m \u001b[0mh\u001b[0m\u001b[1;33m,\u001b[0m \u001b[0md\u001b[0m\u001b[1;33m\u001b[0m\u001b[1;33m\u001b[0m\u001b[0m\n",
      "\u001b[1;32m~\\AppData\\Roaming\\.virtualenvs\\phys_env\\lib\\site-packages\\matplotlib\\texmanager.py\u001b[0m in \u001b[0;36mget_text_width_height_descent\u001b[1;34m(self, tex, fontsize, renderer)\u001b[0m\n\u001b[0;32m    421\u001b[0m         \u001b[1;32melse\u001b[0m\u001b[1;33m:\u001b[0m\u001b[1;33m\u001b[0m\u001b[1;33m\u001b[0m\u001b[0m\n\u001b[0;32m    422\u001b[0m             \u001b[1;31m# use dviread.\u001b[0m\u001b[1;33m\u001b[0m\u001b[1;33m\u001b[0m\u001b[1;33m\u001b[0m\u001b[0m\n\u001b[1;32m--> 423\u001b[1;33m             \u001b[0mdvifile\u001b[0m \u001b[1;33m=\u001b[0m \u001b[0mself\u001b[0m\u001b[1;33m.\u001b[0m\u001b[0mmake_dvi\u001b[0m\u001b[1;33m(\u001b[0m\u001b[0mtex\u001b[0m\u001b[1;33m,\u001b[0m \u001b[0mfontsize\u001b[0m\u001b[1;33m)\u001b[0m\u001b[1;33m\u001b[0m\u001b[1;33m\u001b[0m\u001b[0m\n\u001b[0m\u001b[0;32m    424\u001b[0m             \u001b[1;32mwith\u001b[0m \u001b[0mdviread\u001b[0m\u001b[1;33m.\u001b[0m\u001b[0mDvi\u001b[0m\u001b[1;33m(\u001b[0m\u001b[0mdvifile\u001b[0m\u001b[1;33m,\u001b[0m \u001b[1;36m72\u001b[0m \u001b[1;33m*\u001b[0m \u001b[0mdpi_fraction\u001b[0m\u001b[1;33m)\u001b[0m \u001b[1;32mas\u001b[0m \u001b[0mdvi\u001b[0m\u001b[1;33m:\u001b[0m\u001b[1;33m\u001b[0m\u001b[1;33m\u001b[0m\u001b[0m\n\u001b[0;32m    425\u001b[0m                 \u001b[0mpage\u001b[0m\u001b[1;33m,\u001b[0m \u001b[1;33m=\u001b[0m \u001b[0mdvi\u001b[0m\u001b[1;33m\u001b[0m\u001b[1;33m\u001b[0m\u001b[0m\n",
      "\u001b[1;32m~\\AppData\\Roaming\\.virtualenvs\\phys_env\\lib\\site-packages\\matplotlib\\texmanager.py\u001b[0m in \u001b[0;36mmake_dvi\u001b[1;34m(self, tex, fontsize)\u001b[0m\n\u001b[0;32m    307\u001b[0m             \u001b[0mtexfile\u001b[0m \u001b[1;33m=\u001b[0m \u001b[0mself\u001b[0m\u001b[1;33m.\u001b[0m\u001b[0mmake_tex\u001b[0m\u001b[1;33m(\u001b[0m\u001b[0mtex\u001b[0m\u001b[1;33m,\u001b[0m \u001b[0mfontsize\u001b[0m\u001b[1;33m)\u001b[0m\u001b[1;33m\u001b[0m\u001b[1;33m\u001b[0m\u001b[0m\n\u001b[0;32m    308\u001b[0m             \u001b[1;32mwith\u001b[0m \u001b[0mcbook\u001b[0m\u001b[1;33m.\u001b[0m\u001b[0m_lock_path\u001b[0m\u001b[1;33m(\u001b[0m\u001b[0mtexfile\u001b[0m\u001b[1;33m)\u001b[0m\u001b[1;33m:\u001b[0m\u001b[1;33m\u001b[0m\u001b[1;33m\u001b[0m\u001b[0m\n\u001b[1;32m--> 309\u001b[1;33m                 self._run_checked_subprocess(\n\u001b[0m\u001b[0;32m    310\u001b[0m                     [\"latex\", \"-interaction=nonstopmode\", \"--halt-on-error\",\n\u001b[0;32m    311\u001b[0m                      texfile], tex)\n",
      "\u001b[1;32m~\\AppData\\Roaming\\.virtualenvs\\phys_env\\lib\\site-packages\\matplotlib\\texmanager.py\u001b[0m in \u001b[0;36m_run_checked_subprocess\u001b[1;34m(self, command, tex)\u001b[0m\n\u001b[0;32m    281\u001b[0m                 'found'.format(command[0])) from exc\n\u001b[0;32m    282\u001b[0m         \u001b[1;32mexcept\u001b[0m \u001b[0msubprocess\u001b[0m\u001b[1;33m.\u001b[0m\u001b[0mCalledProcessError\u001b[0m \u001b[1;32mas\u001b[0m \u001b[0mexc\u001b[0m\u001b[1;33m:\u001b[0m\u001b[1;33m\u001b[0m\u001b[1;33m\u001b[0m\u001b[0m\n\u001b[1;32m--> 283\u001b[1;33m             raise RuntimeError(\n\u001b[0m\u001b[0;32m    284\u001b[0m                 \u001b[1;34m'{prog} was not able to process the following string:\\n'\u001b[0m\u001b[1;33m\u001b[0m\u001b[1;33m\u001b[0m\u001b[0m\n\u001b[0;32m    285\u001b[0m                 \u001b[1;34m'{tex!r}\\n\\n'\u001b[0m\u001b[1;33m\u001b[0m\u001b[1;33m\u001b[0m\u001b[0m\n",
      "\u001b[1;31mRuntimeError\u001b[0m: latex was not able to process the following string:\nb'Unconv. central, low p_{Tt}'\n\nHere is the full report generated by latex:\nThis is pdfTeX, Version 3.141592653-2.6-1.40.23 (TeX Live 2021/W32TeX) (preloaded format=latex)\r\n restricted \\write18 enabled.\r\nentering extended mode\r\n(c:/Users/brand/.matplotlib/tex.cache/036cb9edc9e21221b4397ff27676fcff.tex\r\nLaTeX2e <2021-11-15> patch level 1\r\nL3 programming layer <2022-01-12>\r\n(c:/texlive/2021/texmf-dist/tex/latex/base/article.cls\r\nDocument Class: article 2021/10/04 v1.4n Standard LaTeX document class\r\n(c:/texlive/2021/texmf-dist/tex/latex/base/size10.clo))\r\n(c:/texlive/2021/texmf-dist/tex/latex/type1cm/type1cm.sty)\r\n(c:/texlive/2021/texmf-dist/tex/latex/cm-super/type1ec.sty\r\n(c:/texlive/2021/texmf-dist/tex/latex/base/t1cmr.fd))\r\n(c:/texlive/2021/texmf-dist/tex/latex/base/inputenc.sty)\r\n(c:/texlive/2021/texmf-dist/tex/latex/geometry/geometry.sty\r\n(c:/texlive/2021/texmf-dist/tex/latex/graphics/keyval.sty)\r\n(c:/texlive/2021/texmf-dist/tex/generic/iftex/ifvtex.sty\r\n(c:/texlive/2021/texmf-dist/tex/generic/iftex/iftex.sty))\r\n\r\nPackage geometry Warning: Over-specification in `h'-direction.\r\n    `width' (5058.9pt) is ignored.\r\n\r\n\r\nPackage geometry Warning: Over-specification in `v'-direction.\r\n    `height' (5058.9pt) is ignored.\r\n\r\n) (c:/texlive/2021/texmf-dist/tex/latex/base/textcomp.sty)\r\n(c:/texlive/2021/texmf-dist/tex/latex/l3backend/l3backend-dvips.def)\r\n(./036cb9edc9e21221b4397ff27676fcff.aux)\r\n*geometry* driver: auto-detecting\r\n*geometry* detected driver: dvips\r\n! Missing $ inserted.\r\n<inserted text> \r\n                $\r\nl.19 {\\sffamily Unconv. central, low p_\r\n                                       {Tt}}\r\nNo pages of output.\r\nTranscript written on 036cb9edc9e21221b4397ff27676fcff.log.\r\n\n\n"
     ]
    },
    {
     "data": {
      "text/plain": [
       "<Figure size 2000x5000 with 10 Axes>"
      ]
     },
     "metadata": {
      "needs_background": "light"
     },
     "output_type": "display_data"
    }
   ],
   "source": [
    "fig1, ax1 = plt.subplots(5, 2, figsize=(20, 50))\n",
    "\n",
    "for i, ax in enumerate(fig1.axes):\n",
    "    title = categ_mapping_2011[\"categ_name\"][i]\n",
    "    ax.set_title(\"{}\".format(title))\n",
    "    ax.errorbar(\n",
    "        hist_2011[i][\"bins\"],\n",
    "        hist_2011[i][\"n\"],\n",
    "        yerr=np.sqrt(hist_2011[i][\"n\"]),\n",
    "        fmt='o',\n",
    "        label=\"2011\"\n",
    "    )\n",
    "    ax.errorbar(\n",
    "        hist_2012[i][\"bins\"],\n",
    "        hist_2012[i][\"n\"],\n",
    "        yerr=np.sqrt(hist_2012[i][\"n\"]),\n",
    "        fmt='o',\n",
    "        label=\"2012\"\n",
    "    )\n",
    "    ax.legend()\n",
    "    ax.set_xlim(100,160)\n",
    "    ax.grid(True)"
   ]
  },
  {
   "cell_type": "markdown",
   "id": "cb779d62-fffc-4009-958d-7dfa60bb638e",
   "metadata": {},
   "source": [
    "## Processing\n",
    "Before performing analysis, we need to process the data."
   ]
  },
  {
   "cell_type": "markdown",
   "id": "c590548d-cf47-4324-8bbc-3ea766e37091",
   "metadata": {},
   "source": [
    "#### Exclusion Function\n",
    "In order to fit a background, we need to exclude the hypothetical Higgs region. We will create a function that returns histogram data with an excluded region that is specified by the user."
   ]
  },
  {
   "cell_type": "code",
   "execution_count": 10,
   "id": "61f83413-6e8e-4382-af83-c5b11c7eb1b1",
   "metadata": {},
   "outputs": [],
   "source": [
    "def hist_exclude(df, left, right):\n",
    "    \"\"\"\n",
    "    df should have columns \"n\" and \"bins\"\n",
    "    Return: df with NO data in left<bins<right\n",
    "    \"\"\"\n",
    "    if left >= right:\n",
    "        return None\n",
    "    return df.loc[(left>df[\"bins\"]) ^ (df[\"bins\"]>right)]"
   ]
  },
  {
   "cell_type": "markdown",
   "id": "a18dca78-5f31-4941-8c9a-15e8ae3ea35b",
   "metadata": {},
   "source": [
    "#### Exclusion Array Function\n",
    "We will now create a function that takes in an array of DataFrames representing histogram data, and excludes the specified region in each array."
   ]
  },
  {
   "cell_type": "code",
   "execution_count": 11,
   "id": "3bb9e321-7c6d-429f-b2bd-c6b540881b94",
   "metadata": {},
   "outputs": [],
   "source": [
    "def exclude_array(df_arr, left, right):\n",
    "    \"\"\"\n",
    "    df_arr should have DataFrames, where each as columsn \"n\", \"bins\"\n",
    "    Return: array with DataFrames with excluded region\n",
    "    \"\"\"\n",
    "    return [hist_exclude(df, left, right) for df in df_arr]"
   ]
  },
  {
   "cell_type": "markdown",
   "id": "a178584d-f8ee-424b-9da0-72ac5303a12a",
   "metadata": {},
   "source": [
    "#### Sliding Exclusion\n",
    "In order to eliminate a priori bias, we will exclude many different regions. We will have a total of 6 regions from 100 to 160 with a width of 10. Each histogram of excluded regions will be put into an array."
   ]
  },
  {
   "cell_type": "code",
   "execution_count": 12,
   "id": "460ff713-1aa8-4a09-8969-8c255a1b31d9",
   "metadata": {},
   "outputs": [],
   "source": [
    "widths = np.linspace(100, 160, 7, dtype=int)\n",
    "excluded_2011 = [exclude_array(hist_2011, widths[i], widths[i+1]) for i in range(len(widths)-1)]\n",
    "excluded_2012 = [exclude_array(hist_2011, widths[i], widths[i+1]) for i in range(len(widths)-1)]"
   ]
  },
  {
   "cell_type": "markdown",
   "id": "6e048bd5-6016-42e7-a52e-ef26b0a3998c",
   "metadata": {},
   "source": [
    "For example, the 7th category (conv. rest low ptt) of the 2012 data with an exclusion region of 140-150 would be accessed as follows:"
   ]
  },
  {
   "cell_type": "code",
   "execution_count": 13,
   "id": "e09b2c67-50c2-48a5-8d79-c92ccd053c1a",
   "metadata": {},
   "outputs": [
    {
     "ename": "NameError",
     "evalue": "name 'full_2012' is not defined",
     "output_type": "error",
     "traceback": [
      "\u001b[1;31m---------------------------------------------------------------------------\u001b[0m",
      "\u001b[1;31mNameError\u001b[0m                                 Traceback (most recent call last)",
      "\u001b[1;32m<ipython-input-13-8d5e1e551418>\u001b[0m in \u001b[0;36m<module>\u001b[1;34m\u001b[0m\n\u001b[1;32m----> 1\u001b[1;33m \u001b[0mfull_2012\u001b[0m\u001b[1;33m[\u001b[0m\u001b[1;36m4\u001b[0m\u001b[1;33m]\u001b[0m\u001b[1;33m[\u001b[0m\u001b[1;36m6\u001b[0m\u001b[1;33m]\u001b[0m\u001b[1;33m.\u001b[0m\u001b[0mhead\u001b[0m\u001b[1;33m(\u001b[0m\u001b[1;33m)\u001b[0m\u001b[1;33m\u001b[0m\u001b[1;33m\u001b[0m\u001b[0m\n\u001b[0m",
      "\u001b[1;31mNameError\u001b[0m: name 'full_2012' is not defined"
     ]
    }
   ],
   "source": [
    "full_2012[4][6].head()"
   ]
  },
  {
   "cell_type": "markdown",
   "id": "782fa020-e742-492b-ad07-68704e962749",
   "metadata": {},
   "source": [
    "## Fitting\n",
    "At this point, we have the data that we need in order to begin fitting."
   ]
  },
  {
   "cell_type": "markdown",
   "id": "5bc369cd-6b7f-4d8f-aca8-33e81fc0258c",
   "metadata": {},
   "source": [
    "#### Background\n",
    "Our background function will be an exponential with 2 free parameters."
   ]
  },
  {
   "cell_type": "code",
   "execution_count": null,
   "id": "49056129-6de2-439b-9885-87f50c73ad90",
   "metadata": {},
   "outputs": [],
   "source": [
    "def exponential(x, const, slope):\n",
    "    return const*np.exp(x*slope)"
   ]
  },
  {
   "cell_type": "markdown",
   "id": "856a1f35-cfd4-4fe3-846d-ae455c95a6de",
   "metadata": {},
   "source": [
    "We will be using `scipy.optimize.curve_fit` to fit our functions to our data. The return will be stored in an array"
   ]
  },
  {
   "cell_type": "code",
   "execution_count": 1,
   "id": "2be79c3c-46c3-4d57-83a2-1ce96ed4d55b",
   "metadata": {},
   "outputs": [
    {
     "ename": "NameError",
     "evalue": "name 'excluded_2011' is not defined",
     "output_type": "error",
     "traceback": [
      "\u001b[1;31m---------------------------------------------------------------------------\u001b[0m",
      "\u001b[1;31mNameError\u001b[0m                                 Traceback (most recent call last)",
      "\u001b[1;32m<ipython-input-1-c8432aa6166a>\u001b[0m in \u001b[0;36m<module>\u001b[1;34m\u001b[0m\n\u001b[1;32m----> 1\u001b[1;33m \u001b[0mbg_fit_2011\u001b[0m \u001b[1;33m=\u001b[0m \u001b[1;33m[\u001b[0m\u001b[1;33m[\u001b[0m\u001b[0mscipy\u001b[0m\u001b[1;33m.\u001b[0m\u001b[0moptimize\u001b[0m\u001b[1;33m.\u001b[0m\u001b[0mcurve_fit\u001b[0m\u001b[1;33m(\u001b[0m\u001b[0mexponential\u001b[0m\u001b[1;33m,\u001b[0m \u001b[0mdf\u001b[0m\u001b[1;33m[\u001b[0m\u001b[1;34m\"bins\"\u001b[0m\u001b[1;33m]\u001b[0m\u001b[1;33m,\u001b[0m \u001b[0mdf\u001b[0m\u001b[1;33m[\u001b[0m\u001b[1;34m\"n\"\u001b[0m\u001b[1;33m]\u001b[0m\u001b[1;33m,\u001b[0m \u001b[0msigma\u001b[0m\u001b[1;33m=\u001b[0m\u001b[0mnp\u001b[0m\u001b[1;33m.\u001b[0m\u001b[0msqrt\u001b[0m\u001b[1;33m(\u001b[0m\u001b[0mdf\u001b[0m\u001b[1;33m[\u001b[0m\u001b[1;34m\"n\"\u001b[0m\u001b[1;33m]\u001b[0m\u001b[1;33m)\u001b[0m\u001b[1;33m,\u001b[0m \u001b[0mabsolute_sigma\u001b[0m\u001b[1;33m=\u001b[0m\u001b[1;32mTrue\u001b[0m\u001b[1;33m)\u001b[0m \u001b[1;32mfor\u001b[0m \u001b[0mdf\u001b[0m \u001b[1;32min\u001b[0m \u001b[0marr\u001b[0m\u001b[1;33m]\u001b[0m \u001b[1;32mfor\u001b[0m \u001b[0marr\u001b[0m \u001b[1;32min\u001b[0m \u001b[0mexcluded_2011\u001b[0m\u001b[1;33m]\u001b[0m\u001b[1;33m\u001b[0m\u001b[1;33m\u001b[0m\u001b[0m\n\u001b[0m",
      "\u001b[1;31mNameError\u001b[0m: name 'excluded_2011' is not defined"
     ]
    }
   ],
   "source": [
    "bg_fit_2011 = [[scipy.optimize.curve_fit(exponential, df[\"bins\"], df[\"n\"], sigma=np.sqrt(df[\"n\"]), absolute_sigma=True) for df in arr] for arr in excluded_2011]"
   ]
  },
  {
   "cell_type": "code",
   "execution_count": null,
   "id": "85f6c653-ae60-4757-843c-c81da735c3b1",
   "metadata": {},
   "outputs": [],
   "source": []
  }
 ],
 "metadata": {
  "kernelspec": {
   "display_name": "phys_env",
   "language": "python",
   "name": "phys_env"
  },
  "language_info": {
   "codemirror_mode": {
    "name": "ipython",
    "version": 3
   },
   "file_extension": ".py",
   "mimetype": "text/x-python",
   "name": "python",
   "nbconvert_exporter": "python",
   "pygments_lexer": "ipython3",
   "version": "3.9.1"
  }
 },
 "nbformat": 4,
 "nbformat_minor": 5
}
