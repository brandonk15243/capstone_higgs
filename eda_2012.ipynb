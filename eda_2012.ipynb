{
 "cells": [
  {
   "cell_type": "markdown",
   "id": "a26c02dd-9ae0-401b-8afa-8013b7b832d6",
   "metadata": {},
   "source": [
    "# EDA\n",
    "## Intro\n",
    "In this section, we will perform initial analysis on the 2012 dataset that was provided. The purpose of this step is to better understand the structure and content of the data in hopes to notice patterns or trends that will assisnt in later analysis."
   ]
  },
  {
   "cell_type": "code",
   "execution_count": 1,
   "id": "88f95296-112b-4315-be3a-acbd2133e349",
   "metadata": {},
   "outputs": [
    {
     "name": "stderr",
     "output_type": "stream",
     "text": [
      "C:\\Users\\brand\\AppData\\Roaming\\.virtualenvs\\phys_env\\lib\\site-packages\\setuptools\\distutils_patch.py:25: UserWarning: Distutils was imported before Setuptools. This usage is discouraged and may exhibit undesirable behaviors or errors. Please use Setuptools' objects directly or at least import Setuptools first.\n",
      "  warnings.warn(\n"
     ]
    }
   ],
   "source": [
    "import uproot\n",
    "import pandas as pd\n",
    "import numpy as np\n",
    "import scipy.stats\n",
    "import math\n",
    "from matplotlib import pyplot as plt\n",
    "import matplotlib as mpl\n",
    "\n",
    "mpl.rcParams['axes.prop_cycle'] = mpl.cycler(color=[\"c\", \"r\"])\n",
    "pd.set_option('display.width', 200)"
   ]
  },
  {
   "cell_type": "markdown",
   "id": "820e523d-424c-4ed7-b8c0-25c199f5232d",
   "metadata": {},
   "source": [
    "Analysis will be done with Python libraries. In order to do so, we will convert the ROOT data structure into a Pandas dataframe."
   ]
  },
  {
   "cell_type": "code",
   "execution_count": 2,
   "id": "f5ac6998-ec9a-47dd-89bf-b9a621d33d51",
   "metadata": {},
   "outputs": [
    {
     "data": {
      "text/plain": [
       "Index(['RunNumber', 'EventNumber', 'invariant_mass', 'vtx_z', 'ph_pt_leading', 'ph_pt_subleading', 'ph_eta_corrected_leading', 'ph_eta_corrected_subleading', 'ph_etas1_leading',\n",
       "       'ph_etas1_subleading', 'ph_etas2_leading', 'ph_etas2_subleading', 'ph_cl_eta_leading', 'ph_cl_eta_subleading', 'ph_eta_leading', 'ph_eta_subleading', 'ph_cl_phi_leading',\n",
       "       'ph_cl_phi_subleading', 'ph_phi_leading', 'ph_phi_subleading', 'ph_OQ_leading', 'ph_OQ_subleading', 'ph_rawcl_E_leading', 'ph_rawcl_E_subleading', 'ph_isConv_leading', 'ph_isConv_subleading',\n",
       "       'averageIntPerXing', 'PV_n', 'bcid', 'MET_RefFinal_et', 'categ_conv_eta', 'categ_conv_eta_ptt', 'categ_Model5Categories', 'categ_Model10Categories', 'categ_ModelHighPttEtaConvVBF',\n",
       "       'categ_ModelHighPttGoodBadVBF', 'categ_conversion', 'categ_multiplicity_jets', 'categ_pTt'],\n",
       "      dtype='object')"
      ]
     },
     "execution_count": 2,
     "metadata": {},
     "output_type": "execute_result"
    }
   ],
   "source": [
    "file = uproot.open(\"tree_TYPE_DATA_2012.root\")\n",
    "tree = file[\"tree_TYPE_DATA\"]\n",
    "df = tree.arrays(library='pd')\n",
    "df.columns"
   ]
  },
  {
   "cell_type": "code",
   "execution_count": 3,
   "id": "b8f6c26d-c8f4-41b4-ab4e-ff7533f9ab3c",
   "metadata": {},
   "outputs": [
    {
     "data": {
      "text/html": [
       "<div>\n",
       "<style scoped>\n",
       "    .dataframe tbody tr th:only-of-type {\n",
       "        vertical-align: middle;\n",
       "    }\n",
       "\n",
       "    .dataframe tbody tr th {\n",
       "        vertical-align: top;\n",
       "    }\n",
       "\n",
       "    .dataframe thead th {\n",
       "        text-align: right;\n",
       "    }\n",
       "</style>\n",
       "<table border=\"1\" class=\"dataframe\">\n",
       "  <thead>\n",
       "    <tr style=\"text-align: right;\">\n",
       "      <th></th>\n",
       "      <th>RunNumber</th>\n",
       "      <th>EventNumber</th>\n",
       "      <th>invariant_mass</th>\n",
       "      <th>vtx_z</th>\n",
       "      <th>ph_pt_leading</th>\n",
       "      <th>ph_pt_subleading</th>\n",
       "      <th>ph_eta_corrected_leading</th>\n",
       "      <th>ph_eta_corrected_subleading</th>\n",
       "      <th>ph_etas1_leading</th>\n",
       "      <th>ph_etas1_subleading</th>\n",
       "      <th>...</th>\n",
       "      <th>MET_RefFinal_et</th>\n",
       "      <th>categ_conv_eta</th>\n",
       "      <th>categ_conv_eta_ptt</th>\n",
       "      <th>categ_Model5Categories</th>\n",
       "      <th>categ_Model10Categories</th>\n",
       "      <th>categ_ModelHighPttEtaConvVBF</th>\n",
       "      <th>categ_ModelHighPttGoodBadVBF</th>\n",
       "      <th>categ_conversion</th>\n",
       "      <th>categ_multiplicity_jets</th>\n",
       "      <th>categ_pTt</th>\n",
       "    </tr>\n",
       "  </thead>\n",
       "  <tbody>\n",
       "    <tr>\n",
       "      <th>count</th>\n",
       "      <td>35251.000000</td>\n",
       "      <td>3.525100e+04</td>\n",
       "      <td>35251.000000</td>\n",
       "      <td>35251.000000</td>\n",
       "      <td>35251.000000</td>\n",
       "      <td>35251.000000</td>\n",
       "      <td>35251.000000</td>\n",
       "      <td>35251.000000</td>\n",
       "      <td>35251.000000</td>\n",
       "      <td>35251.000000</td>\n",
       "      <td>...</td>\n",
       "      <td>35251.000000</td>\n",
       "      <td>35251.000000</td>\n",
       "      <td>35251.000000</td>\n",
       "      <td>35251.000000</td>\n",
       "      <td>35251.000000</td>\n",
       "      <td>35251.000000</td>\n",
       "      <td>35251.000000</td>\n",
       "      <td>35251.000000</td>\n",
       "      <td>35251.000000</td>\n",
       "      <td>35251.000000</td>\n",
       "    </tr>\n",
       "    <tr>\n",
       "      <th>mean</th>\n",
       "      <td>203825.741823</td>\n",
       "      <td>6.033452e+07</td>\n",
       "      <td>123.069428</td>\n",
       "      <td>-5.058662</td>\n",
       "      <td>64442.843750</td>\n",
       "      <td>45645.222656</td>\n",
       "      <td>0.009402</td>\n",
       "      <td>0.005593</td>\n",
       "      <td>0.007152</td>\n",
       "      <td>0.003405</td>\n",
       "      <td>...</td>\n",
       "      <td>22562.433594</td>\n",
       "      <td>3.082835</td>\n",
       "      <td>5.217299</td>\n",
       "      <td>2.769226</td>\n",
       "      <td>5.236249</td>\n",
       "      <td>3.139883</td>\n",
       "      <td>1.874954</td>\n",
       "      <td>2.783779</td>\n",
       "      <td>0.011574</td>\n",
       "      <td>0.060367</td>\n",
       "    </tr>\n",
       "    <tr>\n",
       "      <th>std</th>\n",
       "      <td>1147.198241</td>\n",
       "      <td>4.979677e+07</td>\n",
       "      <td>16.468605</td>\n",
       "      <td>45.275646</td>\n",
       "      <td>19682.054688</td>\n",
       "      <td>10254.630859</td>\n",
       "      <td>1.226149</td>\n",
       "      <td>1.228077</td>\n",
       "      <td>1.226024</td>\n",
       "      <td>1.228322</td>\n",
       "      <td>...</td>\n",
       "      <td>13433.839844</td>\n",
       "      <td>1.279762</td>\n",
       "      <td>2.556080</td>\n",
       "      <td>0.764415</td>\n",
       "      <td>2.568862</td>\n",
       "      <td>1.334679</td>\n",
       "      <td>0.399886</td>\n",
       "      <td>1.742990</td>\n",
       "      <td>0.151707</td>\n",
       "      <td>0.238169</td>\n",
       "    </tr>\n",
       "    <tr>\n",
       "      <th>min</th>\n",
       "      <td>200842.000000</td>\n",
       "      <td>6.215800e+04</td>\n",
       "      <td>100.000195</td>\n",
       "      <td>-183.039230</td>\n",
       "      <td>36916.453125</td>\n",
       "      <td>27200.875000</td>\n",
       "      <td>-2.390311</td>\n",
       "      <td>-2.396316</td>\n",
       "      <td>-2.370833</td>\n",
       "      <td>-2.370645</td>\n",
       "      <td>...</td>\n",
       "      <td>145.953217</td>\n",
       "      <td>1.000000</td>\n",
       "      <td>1.000000</td>\n",
       "      <td>1.000000</td>\n",
       "      <td>1.000000</td>\n",
       "      <td>1.000000</td>\n",
       "      <td>1.000000</td>\n",
       "      <td>1.000000</td>\n",
       "      <td>0.000000</td>\n",
       "      <td>0.000000</td>\n",
       "    </tr>\n",
       "    <tr>\n",
       "      <th>25%</th>\n",
       "      <td>203353.000000</td>\n",
       "      <td>2.214227e+07</td>\n",
       "      <td>108.934336</td>\n",
       "      <td>-35.352140</td>\n",
       "      <td>51587.464844</td>\n",
       "      <td>37762.718750</td>\n",
       "      <td>-0.923128</td>\n",
       "      <td>-0.931366</td>\n",
       "      <td>-0.927777</td>\n",
       "      <td>-0.933281</td>\n",
       "      <td>...</td>\n",
       "      <td>12834.665527</td>\n",
       "      <td>2.000000</td>\n",
       "      <td>3.000000</td>\n",
       "      <td>3.000000</td>\n",
       "      <td>3.000000</td>\n",
       "      <td>2.000000</td>\n",
       "      <td>2.000000</td>\n",
       "      <td>1.000000</td>\n",
       "      <td>0.000000</td>\n",
       "      <td>0.000000</td>\n",
       "    </tr>\n",
       "    <tr>\n",
       "      <th>50%</th>\n",
       "      <td>204026.000000</td>\n",
       "      <td>4.758297e+07</td>\n",
       "      <td>120.066930</td>\n",
       "      <td>-5.208378</td>\n",
       "      <td>60313.660156</td>\n",
       "      <td>44315.777344</td>\n",
       "      <td>0.014567</td>\n",
       "      <td>0.004229</td>\n",
       "      <td>0.012698</td>\n",
       "      <td>-0.002328</td>\n",
       "      <td>...</td>\n",
       "      <td>20379.132812</td>\n",
       "      <td>3.000000</td>\n",
       "      <td>5.000000</td>\n",
       "      <td>3.000000</td>\n",
       "      <td>5.000000</td>\n",
       "      <td>3.000000</td>\n",
       "      <td>2.000000</td>\n",
       "      <td>3.000000</td>\n",
       "      <td>0.000000</td>\n",
       "      <td>0.000000</td>\n",
       "    </tr>\n",
       "    <tr>\n",
       "      <th>75%</th>\n",
       "      <td>204763.000000</td>\n",
       "      <td>8.516514e+07</td>\n",
       "      <td>135.206680</td>\n",
       "      <td>25.247466</td>\n",
       "      <td>72232.359375</td>\n",
       "      <td>51876.910156</td>\n",
       "      <td>0.935121</td>\n",
       "      <td>0.949715</td>\n",
       "      <td>0.931237</td>\n",
       "      <td>0.946808</td>\n",
       "      <td>...</td>\n",
       "      <td>29653.113281</td>\n",
       "      <td>4.000000</td>\n",
       "      <td>7.000000</td>\n",
       "      <td>3.000000</td>\n",
       "      <td>7.000000</td>\n",
       "      <td>4.000000</td>\n",
       "      <td>2.000000</td>\n",
       "      <td>4.000000</td>\n",
       "      <td>0.000000</td>\n",
       "      <td>0.000000</td>\n",
       "    </tr>\n",
       "    <tr>\n",
       "      <th>max</th>\n",
       "      <td>205113.000000</td>\n",
       "      <td>2.956147e+08</td>\n",
       "      <td>159.999422</td>\n",
       "      <td>213.882950</td>\n",
       "      <td>542560.000000</td>\n",
       "      <td>182216.203125</td>\n",
       "      <td>2.395933</td>\n",
       "      <td>2.393525</td>\n",
       "      <td>2.370928</td>\n",
       "      <td>2.373280</td>\n",
       "      <td>...</td>\n",
       "      <td>253838.578125</td>\n",
       "      <td>5.000000</td>\n",
       "      <td>9.000000</td>\n",
       "      <td>5.000000</td>\n",
       "      <td>10.000000</td>\n",
       "      <td>7.000000</td>\n",
       "      <td>4.000000</td>\n",
       "      <td>5.000000</td>\n",
       "      <td>2.000000</td>\n",
       "      <td>1.000000</td>\n",
       "    </tr>\n",
       "  </tbody>\n",
       "</table>\n",
       "<p>8 rows × 39 columns</p>\n",
       "</div>"
      ],
      "text/plain": [
       "           RunNumber   EventNumber  invariant_mass         vtx_z  ph_pt_leading  ph_pt_subleading  ph_eta_corrected_leading  ph_eta_corrected_subleading  ph_etas1_leading  ph_etas1_subleading  ...  \\\n",
       "count   35251.000000  3.525100e+04    35251.000000  35251.000000   35251.000000      35251.000000              35251.000000                 35251.000000      35251.000000         35251.000000  ...   \n",
       "mean   203825.741823  6.033452e+07      123.069428     -5.058662   64442.843750      45645.222656                  0.009402                     0.005593          0.007152             0.003405  ...   \n",
       "std      1147.198241  4.979677e+07       16.468605     45.275646   19682.054688      10254.630859                  1.226149                     1.228077          1.226024             1.228322  ...   \n",
       "min    200842.000000  6.215800e+04      100.000195   -183.039230   36916.453125      27200.875000                 -2.390311                    -2.396316         -2.370833            -2.370645  ...   \n",
       "25%    203353.000000  2.214227e+07      108.934336    -35.352140   51587.464844      37762.718750                 -0.923128                    -0.931366         -0.927777            -0.933281  ...   \n",
       "50%    204026.000000  4.758297e+07      120.066930     -5.208378   60313.660156      44315.777344                  0.014567                     0.004229          0.012698            -0.002328  ...   \n",
       "75%    204763.000000  8.516514e+07      135.206680     25.247466   72232.359375      51876.910156                  0.935121                     0.949715          0.931237             0.946808  ...   \n",
       "max    205113.000000  2.956147e+08      159.999422    213.882950  542560.000000     182216.203125                  2.395933                     2.393525          2.370928             2.373280  ...   \n",
       "\n",
       "       MET_RefFinal_et  categ_conv_eta  categ_conv_eta_ptt  categ_Model5Categories  categ_Model10Categories  categ_ModelHighPttEtaConvVBF  categ_ModelHighPttGoodBadVBF  categ_conversion  \\\n",
       "count     35251.000000    35251.000000        35251.000000            35251.000000             35251.000000                  35251.000000                  35251.000000      35251.000000   \n",
       "mean      22562.433594        3.082835            5.217299                2.769226                 5.236249                      3.139883                      1.874954          2.783779   \n",
       "std       13433.839844        1.279762            2.556080                0.764415                 2.568862                      1.334679                      0.399886          1.742990   \n",
       "min         145.953217        1.000000            1.000000                1.000000                 1.000000                      1.000000                      1.000000          1.000000   \n",
       "25%       12834.665527        2.000000            3.000000                3.000000                 3.000000                      2.000000                      2.000000          1.000000   \n",
       "50%       20379.132812        3.000000            5.000000                3.000000                 5.000000                      3.000000                      2.000000          3.000000   \n",
       "75%       29653.113281        4.000000            7.000000                3.000000                 7.000000                      4.000000                      2.000000          4.000000   \n",
       "max      253838.578125        5.000000            9.000000                5.000000                10.000000                      7.000000                      4.000000          5.000000   \n",
       "\n",
       "       categ_multiplicity_jets     categ_pTt  \n",
       "count             35251.000000  35251.000000  \n",
       "mean                  0.011574      0.060367  \n",
       "std                   0.151707      0.238169  \n",
       "min                   0.000000      0.000000  \n",
       "25%                   0.000000      0.000000  \n",
       "50%                   0.000000      0.000000  \n",
       "75%                   0.000000      0.000000  \n",
       "max                   2.000000      1.000000  \n",
       "\n",
       "[8 rows x 39 columns]"
      ]
     },
     "execution_count": 3,
     "metadata": {},
     "output_type": "execute_result"
    }
   ],
   "source": [
    "df.describe()"
   ]
  },
  {
   "cell_type": "markdown",
   "id": "f22a96d8-da29-47b2-9854-fac454a94a2c",
   "metadata": {},
   "source": [
    "## Columns\n",
    "Here are the names of the columns in a more readable format. The descriptions of each column have been provided by Prof. Wang (with some additions of our own)\n",
    "\n",
    "|Column Name|Description|\n",
    "|-----------|-----------|\n",
    "| `RunNumber` | Run number |\n",
    "| `EventNumber` | Event number |\n",
    "| `invariant_mass` | reconstructed diphoton mass [MeV] |\n",
    "| `vtx_z` | `z`-position of vertex |\n",
    "| `ph_pt_leading` | transverse momentum (pT) of the leading photon |\n",
    "| `ph_pt_subleading` | pT of the subleading photon |\n",
    "| `ph_eta_corrected_leading` | pseudo rapidity ($\\eta$) of the leading photon |\n",
    "| `ph_eta_corrected_subleading` | pseudo rapidity of the subleading photon |\n",
    "| `ph_etas1_leading` | pseudo rapidity of the leading photon, as measured in the 1st layer of the calorimeter |\n",
    "| `ph_etas1_subleading` | pseudo rapidity of the subleading photon, as measured in the 1st layer of the calorimeter |\n",
    "| `ph_etas2_leading` | pseudo rapidity of the leading photon, as measured in the 2nd layer of the calorimeter |\n",
    "| `ph_etas2_subleading` | pseudo rapidity of the subleading photon, as measured in the 2nd layer of the calorimeter |\n",
    "| `ph_cl_eta_leading` | ? |\n",
    "| `ph_cl_eta_subleading` | ? |\n",
    "| `ph_eta_leading` | ? |\n",
    "| `ph_eta_subleading` | ? |\n",
    "| `ph_cl_phi_leading` | ? |\n",
    "| `ph_cl_phi_subleading` | ? |\n",
    "| `ph_phi_leading` | polar angle of in the transverse plane ($\\phi$) of the leading photon |\n",
    "| `ph_phi_subleading` |  polar angle of in the transverse plane ($\\phi$) of the leading photon |\n",
    "| `ph_OQ_leading` | ? |\n",
    "| `ph_OQ_subleading` | ? |\n",
    "| `ph_rawcl_E_leading` | ? |\n",
    "| `ph_rawcl_E_subleading` | ? |\n",
    "| `ph_isConv_leading` | bool type variable indicating whether or not the leading photon is converted |\n",
    "| `ph_isConv_subleading` | bool type variable indicating whether or not the subleading photon is converted |\n",
    "| `averageIntPerXing` | average number of interactions per bunch crossing in the lumi block |\n",
    "| `PV_n` | number of reconstructed primary vertices |\n",
    "| `bcid` | ? |\n",
    "| `MET_RefFinal_et` | ? |\n",
    "\n",
    "The following are flags used to define categories\n",
    "\n",
    "|Column Name|Description|\n",
    "|-----------|-----------|\n",
    "| `categ_conv_eta` | ? |\n",
    "| `categ_conv_eta_ptt` | ? |\n",
    "| `categ_Model5Categories` | ? |\n",
    "| `categ_Model10Categories` | ? |\n",
    "| `categ_ModelHighPttEtaConvVBF` | ? |\n",
    "| `categ_ModelHighPttGoodBadVBF` | ? |\n",
    "| `categ_conversion` | ? |\n"
   ]
  },
  {
   "cell_type": "markdown",
   "id": "f79597ba-1382-4a30-8039-da380b13a682",
   "metadata": {},
   "source": [
    "Some columns are new (not present in 2011). We will explore these."
   ]
  },
  {
   "cell_type": "code",
   "execution_count": 4,
   "id": "0a6a16b3-5bef-45c0-a35a-46a5cdbcd6e0",
   "metadata": {},
   "outputs": [
    {
     "data": {
      "text/html": [
       "<div>\n",
       "<style scoped>\n",
       "    .dataframe tbody tr th:only-of-type {\n",
       "        vertical-align: middle;\n",
       "    }\n",
       "\n",
       "    .dataframe tbody tr th {\n",
       "        vertical-align: top;\n",
       "    }\n",
       "\n",
       "    .dataframe thead th {\n",
       "        text-align: right;\n",
       "    }\n",
       "</style>\n",
       "<table border=\"1\" class=\"dataframe\">\n",
       "  <thead>\n",
       "    <tr style=\"text-align: right;\">\n",
       "      <th></th>\n",
       "      <th>vtx_z</th>\n",
       "      <th>ph_OQ_leading</th>\n",
       "      <th>bcid</th>\n",
       "      <th>MET_RefFinal_et</th>\n",
       "    </tr>\n",
       "  </thead>\n",
       "  <tbody>\n",
       "    <tr>\n",
       "      <th>count</th>\n",
       "      <td>35251.000000</td>\n",
       "      <td>3.525100e+04</td>\n",
       "      <td>35251.000000</td>\n",
       "      <td>35251.000000</td>\n",
       "    </tr>\n",
       "    <tr>\n",
       "      <th>mean</th>\n",
       "      <td>-5.058662</td>\n",
       "      <td>2.331562e+07</td>\n",
       "      <td>1721.313098</td>\n",
       "      <td>22562.433594</td>\n",
       "    </tr>\n",
       "    <tr>\n",
       "      <th>std</th>\n",
       "      <td>45.275646</td>\n",
       "      <td>1.237995e+08</td>\n",
       "      <td>983.752746</td>\n",
       "      <td>13433.839844</td>\n",
       "    </tr>\n",
       "    <tr>\n",
       "      <th>min</th>\n",
       "      <td>-183.039230</td>\n",
       "      <td>0.000000e+00</td>\n",
       "      <td>1.000000</td>\n",
       "      <td>145.953217</td>\n",
       "    </tr>\n",
       "    <tr>\n",
       "      <th>25%</th>\n",
       "      <td>-35.352140</td>\n",
       "      <td>1.331280e+05</td>\n",
       "      <td>885.000000</td>\n",
       "      <td>12834.665527</td>\n",
       "    </tr>\n",
       "    <tr>\n",
       "      <th>50%</th>\n",
       "      <td>-5.208378</td>\n",
       "      <td>5.242960e+05</td>\n",
       "      <td>1737.000000</td>\n",
       "      <td>20379.132812</td>\n",
       "    </tr>\n",
       "    <tr>\n",
       "      <th>75%</th>\n",
       "      <td>25.247466</td>\n",
       "      <td>7.864320e+05</td>\n",
       "      <td>2595.000000</td>\n",
       "      <td>29653.113281</td>\n",
       "    </tr>\n",
       "    <tr>\n",
       "      <th>max</th>\n",
       "      <td>213.882950</td>\n",
       "      <td>8.228700e+08</td>\n",
       "      <td>3393.000000</td>\n",
       "      <td>253838.578125</td>\n",
       "    </tr>\n",
       "  </tbody>\n",
       "</table>\n",
       "</div>"
      ],
      "text/plain": [
       "              vtx_z  ph_OQ_leading          bcid  MET_RefFinal_et\n",
       "count  35251.000000   3.525100e+04  35251.000000     35251.000000\n",
       "mean      -5.058662   2.331562e+07   1721.313098     22562.433594\n",
       "std       45.275646   1.237995e+08    983.752746     13433.839844\n",
       "min     -183.039230   0.000000e+00      1.000000       145.953217\n",
       "25%      -35.352140   1.331280e+05    885.000000     12834.665527\n",
       "50%       -5.208378   5.242960e+05   1737.000000     20379.132812\n",
       "75%       25.247466   7.864320e+05   2595.000000     29653.113281\n",
       "max      213.882950   8.228700e+08   3393.000000    253838.578125"
      ]
     },
     "execution_count": 4,
     "metadata": {},
     "output_type": "execute_result"
    }
   ],
   "source": [
    "relevant = df[[\"vtx_z\", \"ph_OQ_leading\", \"bcid\", \"MET_RefFinal_et\"]]\n",
    "relevant.describe()"
   ]
  },
  {
   "cell_type": "markdown",
   "id": "5296f1af-97d7-4735-bf6b-5831beedb610",
   "metadata": {
    "tags": []
   },
   "source": [
    "## Reconstructing invariant mass\n",
    "An example of this can be found in the 2011 EDA notebook."
   ]
  },
  {
   "cell_type": "markdown",
   "id": "8644ff4b-e8a9-4fac-abe0-dd9d9dd66cb0",
   "metadata": {},
   "source": [
    "## Categories\n",
    "There are 7 given categories with which to categorize data. Here, we will explore these categories."
   ]
  },
  {
   "cell_type": "code",
   "execution_count": 5,
   "id": "e2469b2f-13da-4645-b667-a42742acf0fd",
   "metadata": {},
   "outputs": [
    {
     "name": "stdout",
     "output_type": "stream",
     "text": [
      "categ_conv_eta:\n",
      "1     3133\n",
      "2    12975\n",
      "3     2135\n",
      "4    11855\n",
      "5     5153\n",
      "----------------------------------------\n",
      "categ_conv_eta_ptt:\n",
      "1     2957\n",
      "2      176\n",
      "3    12168\n",
      "4      807\n",
      "5     2021\n",
      "6      114\n",
      "7    11132\n",
      "8      723\n",
      "9     5153\n",
      "----------------------------------------\n",
      "categ_Model5Categories:\n",
      "1     4960\n",
      "2      286\n",
      "3    28073\n",
      "4     1793\n",
      "5      139\n",
      "----------------------------------------\n",
      "categ_Model10Categories:\n",
      "1      2945\n",
      "2       173\n",
      "3     12136\n",
      "4       785\n",
      "5      2015\n",
      "6       113\n",
      "7     11099\n",
      "8       706\n",
      "9      5140\n",
      "10      139\n",
      "----------------------------------------\n",
      "categ_ModelHighPttEtaConvVBF:\n",
      "1     3069\n",
      "2    12734\n",
      "3     2090\n",
      "4    11664\n",
      "5     5082\n",
      "6      473\n",
      "7      139\n",
      "----------------------------------------\n",
      "categ_ModelHighPttGoodBadVBF:\n",
      "1     5159\n",
      "2    29480\n",
      "3      473\n",
      "4      139\n",
      "----------------------------------------\n",
      "categ_conversion:\n",
      "1    16108\n",
      "2     1240\n",
      "3      685\n",
      "4     8602\n",
      "5     8616\n",
      "----------------------------------------\n"
     ]
    }
   ],
   "source": [
    "category_labels = ['categ_conv_eta', 'categ_conv_eta_ptt', 'categ_Model5Categories', 'categ_Model10Categories', 'categ_ModelHighPttEtaConvVBF', 'categ_ModelHighPttGoodBadVBF', 'categ_conversion']\n",
    "cat_df = df[category_labels]\n",
    "for category in category_labels:\n",
    "    uniques = cat_df[category].value_counts().sort_index()\n",
    "    print(f\"{category}:\\n{uniques.to_string()}\\n\"+'-'*40)"
   ]
  },
  {
   "cell_type": "markdown",
   "id": "d188d195-c4ce-40b7-9656-efb81888af56",
   "metadata": {},
   "source": [
    "#### `categ_Model10Categories`\n",
    "From the ATLAS paper (Table 4), we can see that the number of events per label in `categ_Model10Categories` lines up with the number of events in the table. Therefore, we can interpret each number in `categ_Model10Categories` as follows:\n",
    "\n",
    "| Label | Category |\n",
    "|-------|----------|\n",
    "| 1 | Unconv. central, low $p_{Tt}$ |\n",
    "| 2 | Unconv. central, high $p_{Tt}$ |\n",
    "| 3 | Unconv. rest, low $p_{Tt}$ |\n",
    "| 4 | Unconv. rest, high $p_{Tt}$ |\n",
    "| 5 | Conv. central, low $p_{Tt}$ |\n",
    "| 6 | Conv. central, high $p_{Tt}$ |\n",
    "| 7 | Conv. rest, low $p_{Tt}$ |\n",
    "| 8 | Conv. central, high $p_{Tt}$ |\n",
    "| 9 | Conv. transition |\n",
    "| 10 | 2-jet |\n",
    "\n",
    "We will use these categories to divide the dataset and perform separate analyses on each category, as was done in the paper."
   ]
  },
  {
   "cell_type": "markdown",
   "id": "7885ce94-669e-415d-b13f-d020a9838188",
   "metadata": {},
   "source": [
    "#### Category-specific parameters\n",
    "In Prof. Wang's CERN Thesis, we are given the Gaussian widths of the Crystal Ball functions for each category:\n",
    "\n",
    "| Label | Category | $\\sigma_{CB}$ (GeV) |\n",
    "|-------|----------|---------------|\n",
    "| 1 | Unconv. central, low $p_{Tt}$ | 1.46 |\n",
    "| 2 | Unconv. central, high $p_{Tt}$ | 1.37 |\n",
    "| 3 | Unconv. rest, low $p_{Tt}$ | 1.58 |\n",
    "| 4 | Unconv. rest, high $p_{Tt}$ | 1.52 |\n",
    "| 5 | Conv. central, low $p_{Tt}$ | 1.64 |\n",
    "| 6 | Conv. central, high $p_{Tt}$ | 1.5 |\n",
    "| 7 | Conv. rest, low $p_{Tt}$ | 1.89 |\n",
    "| 8 | Conv. central, high $p_{Tt}$ | 1.65 |\n",
    "| 9 | Conv. transition | 2.57 |\n",
    "| 10 | 2-jet | 1.59 |\n",
    "\n",
    "The categories are the same as the 2011 categories."
   ]
  },
  {
   "cell_type": "markdown",
   "id": "43a33284-6f50-4cd4-a821-71ff4406705f",
   "metadata": {},
   "source": [
    "Below we have the bin widths and FWHM values (from Prof. Wang's CERN Thesis)"
   ]
  },
  {
   "cell_type": "code",
   "execution_count": 6,
   "id": "de33da68-3f41-4da4-8ffb-58312b485d10",
   "metadata": {},
   "outputs": [],
   "source": [
    "w_given = [2,4,1,2,2,4,1,2,1,4]\n",
    "fwhm = [3.44,3.24,3.73,3.57,3.86,3.53,4.45,3.9,6.1,3.74]"
   ]
  },
  {
   "cell_type": "markdown",
   "id": "9f2f8b82-2e44-46fe-ab0c-da7fb69aa9cd",
   "metadata": {},
   "source": [
    "For later reference, a table with all the relevant data for each category will be stored in `categ_mapping.csv`."
   ]
  },
  {
   "cell_type": "code",
   "execution_count": 7,
   "id": "9e71db6e-7c68-4659-96eb-e377e15ec6fb",
   "metadata": {},
   "outputs": [],
   "source": [
    "mapping = pd.DataFrame(\n",
    "    {\n",
    "        \"label\": [1,2,3,4,5,6,7,8,9,10],\n",
    "        \"categ_name\": \n",
    "        [\"Unconv. central, low p_{Tt}\",\n",
    "         \"Unconv. central, high p_{Tt}\",\n",
    "         \"Unconv. rest, low p_{Tt}\",\n",
    "         \"Unconv. rest, high p_{Tt}\",\n",
    "         \"Conv. central, low p_{Tt}\",\n",
    "         \"Conv. central, high p_{Tt}\",\n",
    "         \"Conv. rest, low p_{Tt}\",\n",
    "         \"Conv. central, high p_{Tt}\",\n",
    "         \"Conv. transition\",\n",
    "         \"2-jet\"],\n",
    "        \"sigma_cb\": [1.46,1.37,1.58,1.52,1.64,1.5,1.89,1.65,2.57,1.59],\n",
    "        \"bin_width_given\": w_given,\n",
    "        \"fwhm\": fwhm\n",
    "    })\n",
    "mapping.to_csv(\"categ_mapping_2012.csv\", index=False)"
   ]
  },
  {
   "cell_type": "markdown",
   "id": "bd429e46-e545-40de-84d6-ddcd2fff5875",
   "metadata": {},
   "source": [
    "## Visualizations\n",
    "The following are visualizations of the dataset."
   ]
  },
  {
   "cell_type": "markdown",
   "id": "269059e8-9643-4d5c-a1cd-dfdf7cd80616",
   "metadata": {
    "tags": []
   },
   "source": [
    "#### E leading vs. E subleading"
   ]
  },
  {
   "cell_type": "code",
   "execution_count": 8,
   "id": "2a6ee7f8-b154-4070-9e19-b7ec7a91e703",
   "metadata": {},
   "outputs": [
    {
     "name": "stderr",
     "output_type": "stream",
     "text": [
      "<ipython-input-8-e1a545e78a91>:8: UserWarning: Matplotlib is currently using module://ipykernel.pylab.backend_inline, which is a non-GUI backend, so cannot show the figure.\n",
      "  fig.show()\n"
     ]
    },
    {
     "data": {
      "image/png": "[encoded data removed]",
      "text/plain": [
       "<Figure size 864x864 with 1 Axes>"
      ]
     },
     "metadata": {
      "needs_background": "light"
     },
     "output_type": "display_data"
    }
   ],
   "source": [
    "fig, ax = plt.subplots(figsize=(12,12))\n",
    "ax.grid()\n",
    "ax.scatter(df[\"ph_rawcl_E_leading\"], df[\"ph_rawcl_E_subleading\"], s=0.1)\n",
    "ax.set_xlabel(\"E of leading photon\")\n",
    "ax.set_ylabel(\"E of subleading photon\")\n",
    "ax.set_aspect('equal')\n",
    "ax.set_title('E Leading vs. E Subleading')\n",
    "fig.show()"
   ]
  },
  {
   "cell_type": "markdown",
   "id": "31004f41-4321-40d3-8334-32743385f43e",
   "metadata": {},
   "source": [
    "#### Parameter Histograms\n",
    "Here, we plot histograms of $\\eta$, $\\phi$, $E$ and $p_T$ for the leading and subleading photons."
   ]
  },
  {
   "cell_type": "code",
   "execution_count": 9,
   "id": "6d1928c5-1bc4-4958-a689-5c3f2090c313",
   "metadata": {},
   "outputs": [
    {
     "name": "stderr",
     "output_type": "stream",
     "text": [
      "<ipython-input-9-7ec0aa5c0b37>:26: UserWarning: Matplotlib is currently using module://ipykernel.pylab.backend_inline, which is a non-GUI backend, so cannot show the figure.\n",
      "  fig1.show()\n"
     ]
    },
    {
     "data": {
      "image/png": "[encoded data removed]",
      "text/plain": [
       "<Figure size 2016x1008 with 4 Axes>"
      ]
     },
     "metadata": {
      "needs_background": "light"
     },
     "output_type": "display_data"
    }
   ],
   "source": [
    "fig1, ax1 = plt.subplots(2, 2, figsize=(28,14))\n",
    "n00_l, bins00_l, pat00_l = ax1[0,0].hist(df[\"ph_eta_corrected_leading\"], 50, alpha=0.5, label=\"leading\")\n",
    "n00_s, bins00_s, pat00_s = ax1[0,0].hist(df[\"ph_eta_corrected_subleading\"], 50, alpha=0.5, label=\"subleading\")\n",
    "ax1[0,0].set_ylabel(\"Frequency\")\n",
    "ax1[0,0].set_xlabel(r\"$\\eta$\")\n",
    "ax1[0,0].legend()\n",
    "\n",
    "n01_l, bins01_l, pat01_l = ax1[0,1].hist(df[\"ph_phi_leading\"], 50, alpha=0.5, label=\"leading\")\n",
    "n01_s, bins01_s, pat01_s_l = ax1[0,1].hist(df[\"ph_phi_subleading\"], 50, alpha=0.5, label=\"subleading\")\n",
    "ax1[0,1].set_ylabel(\"Frequency\")\n",
    "ax1[0,1].set_xlabel(r\"$\\phi$\")\n",
    "ax1[0,1].legend()\n",
    "\n",
    "n10_l, bins10_l, pat10_l = ax1[1,0].hist(df[\"ph_rawcl_E_leading\"], 50, alpha=0.5, label=\"leading\")\n",
    "n10_s, bins10_s, pat10_s = ax1[1,0].hist(df[\"ph_rawcl_E_subleading\"], 50, alpha=0.5, label=\"subleading\")\n",
    "ax1[1,0].set_ylabel(\"Frequency\")\n",
    "ax1[1,0].set_xlabel(r\"$E$\")\n",
    "ax1[1,0].legend()\n",
    "\n",
    "n11_l, bins11_l, pat11_l = ax1[1,1].hist(df[\"ph_pt_leading\"], 50, alpha=0.5, label=\"leading\")\n",
    "n11_s, bins11_s, pat11_s = ax1[1,1].hist(df[\"ph_pt_subleading\"], 50, alpha=0.5, label=\"subleading\")\n",
    "ax1[1,1].set_ylabel(\"Frequency\")\n",
    "ax1[1,1].set_xlabel(r\"$p_T$\")\n",
    "ax1[1,1].legend()\n",
    "\n",
    "fig1.show()"
   ]
  },
  {
   "cell_type": "markdown",
   "id": "04bc49b4-440a-4b90-b37f-af6f3d0a6e5d",
   "metadata": {},
   "source": [
    "We can see here that $\\eta$ is distributed uniquely: there is a lack of photons with $|\\eta|\\approx1.5$<br>\n",
    "$\\phi$ seems to be evenly distributed.<br>\n",
    "The energy and transverse momentum distributions look to be almost poisson?"
   ]
  },
  {
   "cell_type": "markdown",
   "id": "96910416-a57c-4e86-b493-1964491bb316",
   "metadata": {},
   "source": [
    "#### `z` Position Visualization\n",
    "Here, we will plot the distribution of vertices along the z position as a histogram."
   ]
  },
  {
   "cell_type": "code",
   "execution_count": 10,
   "id": "a264fa75-0801-42f7-a90a-33af93a52820",
   "metadata": {},
   "outputs": [
    {
     "name": "stderr",
     "output_type": "stream",
     "text": [
      "<ipython-input-10-50800fd15fed>:4: UserWarning: Matplotlib is currently using module://ipykernel.pylab.backend_inline, which is a non-GUI backend, so cannot show the figure.\n",
      "  fig2.show()\n"
     ]
    },
    {
     "data": {
      "image/png": "[encoded data removed]",
      "text/plain": [
       "<Figure size 864x864 with 1 Axes>"
      ]
     },
     "metadata": {
      "needs_background": "light"
     },
     "output_type": "display_data"
    }
   ],
   "source": [
    "fig2, ax2 = plt.subplots(figsize=(12, 12))\n",
    "nz, binz, patz = ax2.hist(df[\"vtx_z\"], 50)\n",
    "\n",
    "fig2.show()"
   ]
  }
 ],
 "metadata": {
  "kernelspec": {
   "display_name": "phys_env",
   "language": "python",
   "name": "phys_env"
  },
  "language_info": {
   "codemirror_mode": {
    "name": "ipython",
    "version": 3
   },
   "file_extension": ".py",
   "mimetype": "text/x-python",
   "name": "python",
   "nbconvert_exporter": "python",
   "pygments_lexer": "ipython3",
   "version": "3.9.1"
  }
 },
 "nbformat": 4,
 "nbformat_minor": 5
}
